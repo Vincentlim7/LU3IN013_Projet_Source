{
 "cells": [
  {
   "cell_type": "markdown",
   "metadata": {},
   "source": [
    "## How to use the UniRep mLSTM \"babbler\". This version demonstrates the 64-unit and the 1900-unit architecture. \n",
    "\n",
    "We recommend getting started with the 64-unit architecture as it is easier and faster to run, but has the same interface as the 1900-unit one."
   ]
  },
  {
   "cell_type": "markdown",
   "metadata": {},
   "source": [
    "Use the 64-unit or the 1900-unit model?"
   ]
  },
  {
   "cell_type": "code",
   "execution_count": 1,
   "metadata": {
    "collapsed": true
   },
   "outputs": [],
   "source": [
    "USE_FULL_1900_DIM_MODEL = False # if True use 1900 dimensional model, else use 64 dimensional one."
   ]
  },
  {
   "cell_type": "markdown",
   "metadata": {},
   "source": [
    "## Setup"
   ]
  },
  {
   "cell_type": "code",
   "execution_count": 2,
   "metadata": {
    "collapsed": true
   },
   "outputs": [],
   "source": [
    "import tensorflow as tf\n",
    "import numpy as np\n",
    "from scipy.spatial import distance\n",
    "import matplotlib.pyplot as plt\n",
    "\n",
    "# Set seeds\n",
    "tf.set_random_seed(42)\n",
    "np.random.seed(42)\n",
    "\n",
    "if USE_FULL_1900_DIM_MODEL:\n",
    "    # Sync relevant weight files\n",
    "    !aws s3 sync --no-sign-request --quiet s3://unirep-public/1900_weights/ 1900_weights/\n",
    "    \n",
    "    # Import the mLSTM babbler model\n",
    "    from unirep import babbler1900 as babbler\n",
    "    \n",
    "    # Where model weights are stored.\n",
    "    MODEL_WEIGHT_PATH = \"./1900_weights\"\n",
    "    \n",
    "else:\n",
    "    # Sync relevant weight files\n",
    "    !aws s3 sync --no-sign-request --quiet s3://unirep-public/64_weights/ 64_weights/\n",
    "    \n",
    "    # Import the mLSTM babbler model\n",
    "    from unirep import babbler64 as babbler\n",
    "    \n",
    "    # Where model weights are stored.\n",
    "    MODEL_WEIGHT_PATH = \"./64_weights\""
   ]
  },
  {
   "cell_type": "markdown",
   "metadata": {},
   "source": [
    "## Data formatting and management"
   ]
  },
  {
   "cell_type": "markdown",
   "metadata": {},
   "source": [
    "Initialize UniRep, also referred to as the \"babbler\" in our code. You need to provide the batch size you will use and the path to the weight directory."
   ]
  },
  {
   "cell_type": "code",
   "execution_count": 3,
   "metadata": {
    "scrolled": true
   },
   "outputs": [
    {
     "name": "stderr",
     "output_type": "stream",
     "text": [
      "/usr/local/lib/python3.5/dist-packages/h5py/__init__.py:34: FutureWarning: Conversion of the second argument of issubdtype from `float` to `np.floating` is deprecated. In future, it will be treated as `np.float64 == np.dtype(float).type`.\n",
      "  from ._conv import register_converters as _register_converters\n"
     ]
    }
   ],
   "source": [
    "batch_size = 12\n",
    "b = babbler(batch_size=batch_size, model_path=MODEL_WEIGHT_PATH)"
   ]
  },
  {
   "cell_type": "code",
   "execution_count": 4,
   "metadata": {
    "collapsed": true
   },
   "outputs": [],
   "source": [
    "def get_prot_seq(file_name):\n",
    "    f = open(\"dataset/fastas/\" + file_name + \".fasta\", \"r\") # Retriving the file containing the sequence\n",
    "    next(f) # Skipping the first line (containing the protein's name)\n",
    "    seq = \"\"\n",
    "    for line in f: # Retriving the sequence\n",
    "        tmp = line.rstrip()    # Deleting \"\\n\"\n",
    "        seq += tmp\n",
    "    f.close\n",
    "    print(\"lecture fichier\")\n",
    "    return seq\n",
    "\n",
    "def get_avg_vec(seq):\n",
    "    avg_vec = b.get_rep(seq)[0] # Vector 1 : avg\n",
    "    print(\"calcul vecteur\")\n",
    "    return avg_vec\n",
    "\n",
    "def get_concat_vec(seq):\n",
    "    avg_vec = b.get_rep(seq)[0] # Vector 1 : avg\n",
    "    fnl_hid_vec = b.get_rep(seq)[1] # Vector 2 : final hidden\n",
    "    fnl_cell_vec = b.get_rep(seq)[2] # Vector 3 : final cell\n",
    "    seq_vec = np.concatenate((avg_vec, fnl_hid_vec, fnl_cell_vec)) # Concatenation of all three vectors\n",
    "    return seq_vec\n",
    "\n",
    "def get_classe(searched_protein): # Returning the protein's category (the key in the level 0 dictionnary)\n",
    "    for classe, protein_list in classes.items(): # Browsing the category dictionnary (level 0)\n",
    "        for protein_name, seq in protein_list.items(): # Browsing the protein dictionnary (level 1)\n",
    "            if protein_name == searched_protein:\n",
    "                return classe\n",
    "\n",
    "\n",
    "def dic_init(avg = True): # Initializing the nested dictionnary containing all proteins and their vector (avg or concatenated)\n",
    "    classes = dict()\n",
    "    f = open(\"partialProtein.list\", \"r\")\n",
    "    for line in f: # Browsing all protein\n",
    "        infos = line.split()\n",
    "        protein = infos[0]    # Protein name\n",
    "        classe = infos[1]     # Protein category\n",
    "        if classe not in classes: # Adding new category key if it doesn't exist\n",
    "            classes[classe] = dict()\n",
    "        if avg: # adding the avg or concatenated vector\n",
    "            classes[classe][protein] = get_avg_vec(get_prot_seq(protein))\n",
    "        else:\n",
    "            classes[classe][protein] = get_concat_vec(get_prot_seq(protein))\n",
    "    return classes\n",
    "\n",
    "def get_dist_intra(protein_dict): # Initializing a dictionnary containning the shortest euclidian distance between proteins of the same category\n",
    "    dist_intra = dict()\n",
    "    for classe, protein_list in protein_dict.items():\n",
    "        if classe not in dist_intra: # Adding new category key if it doesn't exist\n",
    "            dist_intra[classe] = dict()\n",
    "        for protein_a, vec_a in protein_list.items():\n",
    "            dist_intra[classe][protein_a] = (None, np.inf)\n",
    "            for protein_b, vec_b in protein_list.items():\n",
    "                if protein_a == protein_b:\n",
    "                    continue\n",
    "                dist = distance.euclidean(vec_a, vec_b)\n",
    "                if dist < dist_intra[classe][protein_a][1]:\n",
    "                    dist_intra[classe][protein_a] = (protein_b, dist)\n",
    "    return dist_intra\n",
    "\n",
    "def get_dist_extra(protein_dict): # Initializing a dictionnary containning the shortest euclidian distance between proteins of different category\n",
    "    dist_extra = dict()\n",
    "    for classe_a, protein_list_a in protein_dict.items():\n",
    "        if classe_a not in dist_extra: # Adding new category key if it doesn't exist\n",
    "            dist_extra[classe_a] = dict()\n",
    "        for protein_a, vec_a in protein_list_a.items():\n",
    "            dist_extra[classe_a][protein_a] = (None, np.inf)\n",
    "            for classe_b, protein_list_b in protein_dict.items():\n",
    "                if classe_a == classe_b:\n",
    "                    continue\n",
    "                for protein_b, vec_b in protein_list_b.items():\n",
    "                    dist = distance.euclidean(vec_a, vec_b)\n",
    "                    if dist < dist_extra[classe_a][protein_a][1]:\n",
    "                        dist_extra[classe_a][protein_a] = (protein_b, dist)\n",
    "    return dist_extra\n",
    "                    \n",
    "def histo(dist_intra, dist_extra):\n",
    "    x_intra = []\n",
    "    y_intra = []\n",
    "    x_extra = []\n",
    "    y_extra = []\n",
    "\n",
    "    for classe, protein_list in dist_intra.items(): # Retrieving smallest dist value in dist_intra for each protein\n",
    "        classe_dist = np.inf\n",
    "        for protein, val in protein_list.items():\n",
    "            if(val[1] < classe_dist):\n",
    "                classe_dist = val[1]\n",
    "        if(classe_dist != np.inf):\n",
    "            x_intra.append(classe_dist)\n",
    "            y_intra.append(len(protein_list))\n",
    "\n",
    "    for classe, protein_list in dist_extra.items(): # Retrieving smallest dist value in dist_extra for each protein\n",
    "        classe_dist = np.inf\n",
    "        for protein, val in protein_list.items():\n",
    "            if(val[1] < classe_dist):\n",
    "                classe_dist = val[1]\n",
    "        if(classe_dist != np.inf):\n",
    "            x_extra.append(classe_dist)\n",
    "            y_extra.append(len(protein_list))\n",
    "\n",
    "    plt.bar(x_intra,y_intra,align='center', alpha = 0.7, width = 0.01, label='intra')\n",
    "    plt.bar(x_extra,y_extra,align='center', alpha = 0.7, width = 0.01, label='extra')\n",
    "    plt.xlabel('Distance')\n",
    "    plt.ylabel('Nb Sequence')\n",
    "    plt.legend(loc='upper right')\n",
    "    plt.show() "
   ]
  },
  {
   "cell_type": "code",
   "execution_count": 5,
   "metadata": {},
   "outputs": [
    {
     "name": "stdout",
     "output_type": "stream",
     "text": [
      "lecture fichier\n",
      "calcul vecteur\n",
      "lecture fichier\n",
      "calcul vecteur\n",
      "lecture fichier\n",
      "calcul vecteur\n",
      "lecture fichier\n",
      "calcul vecteur\n",
      "lecture fichier\n",
      "calcul vecteur\n",
      "lecture fichier\n",
      "calcul vecteur\n",
      "lecture fichier\n",
      "calcul vecteur\n",
      "lecture fichier\n",
      "calcul vecteur\n",
      "lecture fichier\n",
      "calcul vecteur\n",
      "lecture fichier\n",
      "calcul vecteur\n",
      "lecture fichier\n",
      "calcul vecteur\n",
      "lecture fichier\n",
      "calcul vecteur\n",
      "lecture fichier\n",
      "calcul vecteur\n",
      "{'a.1.1.2': {'d1b0ba_': array([-0.07408316,  0.0906892 , -0.09411872, -0.9240594 , -0.00607616,\n",
      "       -0.07685939,  0.07632193,  0.17711276,  0.34484848, -0.19797274,\n",
      "        0.20043792,  0.180414  ,  0.0113534 ,  0.14510788, -0.07851459,\n",
      "       -0.04466799, -0.8851272 ,  0.02039905,  0.14558741, -0.53916097,\n",
      "       -0.05926993,  0.35635465, -0.3413427 , -0.29000187,  0.07371391,\n",
      "       -0.08741918, -0.16070253, -0.01850966,  0.33760467, -0.51504225,\n",
      "        0.10751356,  0.45724514,  0.23892072, -0.17853412,  0.764779  ,\n",
      "        0.09500454, -0.22560751,  0.08910782,  0.00214164, -0.15111259,\n",
      "        0.02546616,  0.24877895,  0.04426516,  0.12821196, -0.13158102,\n",
      "        0.13269316, -0.8753642 , -0.39123446,  0.16384572,  0.3295721 ,\n",
      "        0.45174286,  0.04308283, -0.01141089, -0.06356703,  0.09504461,\n",
      "        0.01556865,  0.02112094, -0.07874376,  0.04984989,  0.30755448,\n",
      "       -0.16397053, -0.01356809,  0.4395312 , -0.01312939], dtype=float32), 'd1sctb_': array([-0.05901968,  0.12156617, -0.1187555 , -0.96267146, -0.01903752,\n",
      "       -0.088553  ,  0.07802016,  0.17176093,  0.41473535, -0.09291019,\n",
      "        0.19558184,  0.2214195 , -0.0325181 ,  0.14009303, -0.13151914,\n",
      "       -0.07710017, -0.8342219 ,  0.03926105,  0.10299817, -0.5386606 ,\n",
      "       -0.06651197,  0.33514696, -0.2562146 , -0.21749443,  0.10809047,\n",
      "       -0.10255058, -0.13723701,  0.04848398,  0.38133517, -0.520933  ,\n",
      "        0.1472218 ,  0.44585842,  0.18989661, -0.07997008,  0.6608426 ,\n",
      "        0.04817934, -0.22023912,  0.06905211,  0.02703031, -0.11506584,\n",
      "        0.01411846,  0.14131866, -0.02265517,  0.13128667, -0.08843399,\n",
      "        0.10639676, -0.9188293 , -0.28911322,  0.14862104,  0.26584467,\n",
      "        0.44185165,  0.03102348, -0.0217307 , -0.12799832,  0.07752565,\n",
      "        0.01419493, -0.00386418, -0.08809309,  0.00466726,  0.33005857,\n",
      "       -0.161314  , -0.02828803,  0.41072217, -0.00870787], dtype=float32), 'd1scta_': array([-0.06008476,  0.10530929, -0.08858187, -0.96273863, -0.00617643,\n",
      "       -0.09710344,  0.07264345,  0.15530927,  0.39667857, -0.118877  ,\n",
      "        0.1611688 ,  0.22255607, -0.02239688,  0.03773696, -0.0869329 ,\n",
      "       -0.05069875, -0.8702945 ,  0.02991429,  0.09933542, -0.59894544,\n",
      "       -0.05702398,  0.35311952, -0.26501495, -0.22437114,  0.10426597,\n",
      "       -0.08041786, -0.12513639,  0.05377409,  0.397614  , -0.49618602,\n",
      "        0.12749304,  0.40371457,  0.19723292, -0.09692255,  0.72364634,\n",
      "        0.08178607, -0.20489153,  0.05794563,  0.04524241, -0.11524402,\n",
      "        0.01089749,  0.15879448, -0.00775352,  0.08967914, -0.11131008,\n",
      "        0.10511983, -0.91024625, -0.26867616,  0.13006642,  0.24227747,\n",
      "        0.39510342,  0.02834224, -0.01773153, -0.07925471,  0.09474829,\n",
      "        0.01032019,  0.00718646, -0.07794297,  0.00706596,  0.28885278,\n",
      "       -0.11288756, -0.02789026,  0.41583693, -0.00666441], dtype=float32), 'd3sdha_': array([-0.07054725,  0.10115661, -0.13261783, -0.940131  , -0.01698289,\n",
      "       -0.09205481,  0.08504727,  0.18527837,  0.39105144, -0.14565688,\n",
      "        0.19388342,  0.28555447, -0.03018061,  0.12709962, -0.09605851,\n",
      "       -0.05154177, -0.8121881 ,  0.03181541,  0.10113516, -0.55182105,\n",
      "       -0.09193845,  0.3945473 , -0.33150598, -0.2733507 ,  0.15068373,\n",
      "       -0.09027573, -0.15639597,  0.0129333 ,  0.4741566 , -0.60439694,\n",
      "        0.15609662,  0.44052792,  0.2378565 , -0.13433918,  0.62674415,\n",
      "        0.11638118, -0.20006928,  0.05692971,  0.01575945, -0.14919691,\n",
      "        0.01402304,  0.19160947, -0.01479574,  0.1531309 , -0.03848166,\n",
      "        0.18453752, -0.89245343, -0.31758446,  0.1823717 ,  0.2568044 ,\n",
      "        0.46785805,  0.02946598, -0.02667353, -0.09683505,  0.08570692,\n",
      "        0.01555479, -0.05862859, -0.06577273,  0.02900021,  0.36144042,\n",
      "       -0.21110065, -0.032789  ,  0.45371523, -0.00468708], dtype=float32)}, 'a.1.1.1': {'d1dlya_': array([-0.06524004,  0.12055132, -0.10792242, -0.96798027, -0.02710587,\n",
      "       -0.0838821 ,  0.08102637,  0.18553065,  0.39923486, -0.13568775,\n",
      "        0.20345764,  0.2732915 , -0.0183625 ,  0.1381255 , -0.07348928,\n",
      "       -0.04532425, -0.83486384,  0.03607694,  0.12153617, -0.5348692 ,\n",
      "       -0.07254766,  0.43859583, -0.30431005, -0.23241498,  0.10664283,\n",
      "       -0.07841909, -0.12889199,  0.03127791,  0.5082126 , -0.62148774,\n",
      "        0.1483354 ,  0.4559    ,  0.22156835, -0.10880847,  0.6723176 ,\n",
      "        0.09989408, -0.20576201,  0.07479244,  0.02772623, -0.13905199,\n",
      "        0.01165508,  0.18286352,  0.01132323,  0.13770565, -0.06511599,\n",
      "        0.12656961, -0.874959  , -0.3824115 ,  0.15842833,  0.257265  ,\n",
      "        0.4482947 ,  0.03736515, -0.02018518, -0.0849416 ,  0.07825264,\n",
      "        0.01708143, -0.01905895, -0.06942876,  0.02316386,  0.4233236 ,\n",
      "       -0.18548642, -0.02574294,  0.48250508,  0.02035152], dtype=float32), 'd1dlwa_': array([ 0.06514913,  0.12177301, -0.10926606, -0.9525883 , -0.02587943,\n",
      "       -0.20463514,  0.06858744,  0.16824898,  0.40710443, -0.1904161 ,\n",
      "        0.14028704,  0.27083248,  0.02257151,  0.10667225, -0.07503703,\n",
      "       -0.07836503, -0.8943525 ,  0.0444199 ,  0.17088582, -0.58399343,\n",
      "       -0.06072905,  0.34278175, -0.3374346 , -0.23926288,  0.11747619,\n",
      "       -0.15984318, -0.14865014,  0.00924869,  0.40626946, -0.6548695 ,\n",
      "        0.12585634,  0.5345347 ,  0.2873067 , -0.16253684,  0.70054954,\n",
      "        0.0539537 , -0.19953674,  0.09688381, -0.03571857, -0.17473587,\n",
      "        0.00367005,  0.22055848,  0.03923672,  0.15917331, -0.06309959,\n",
      "        0.17931348, -0.873872  , -0.37892547,  0.14863081,  0.28562456,\n",
      "        0.34736454,  0.04010273, -0.02423001, -0.08781188,  0.06318163,\n",
      "        0.02796522,  0.02181917, -0.06890925,  0.03193155,  0.36216864,\n",
      "       -0.21348695, -0.04554855,  0.526494  , -0.03351151], dtype=float32)}, 'a.2.2.1': {'d1r73a_': array([-0.12238213,  0.07770797, -0.20021962, -0.9817949 , -0.07356485,\n",
      "        0.08068818,  0.08075349,  0.1686954 ,  0.3205792 , -0.08040341,\n",
      "        0.2593552 ,  0.5722654 , -0.0267854 ,  0.26479766, -0.0333235 ,\n",
      "       -0.06771352, -0.78474504,  0.0343321 ,  0.25620875, -0.56799537,\n",
      "       -0.08751711,  0.5006603 , -0.26212633, -0.22952358,  0.05597802,\n",
      "       -0.11194094, -0.16927479,  0.06945312,  0.5003127 , -0.7582511 ,\n",
      "        0.20336418,  0.44663796,  0.15830244, -0.07001685,  0.50495505,\n",
      "       -0.04221337, -0.16895549,  0.18081777, -0.0435464 , -0.14252552,\n",
      "        0.0134563 ,  0.1014448 , -0.01355098,  0.22464508, -0.06210347,\n",
      "        0.17734577, -0.9327056 , -0.7206073 ,  0.20572752,  0.19651473,\n",
      "        0.6873618 ,  0.01680564, -0.04485179, -0.23405755,  0.10080104,\n",
      "        0.03487479, -0.09397634, -0.05143711,  0.02048395,  0.73548585,\n",
      "       -0.22073907, -0.00355599,  0.47216558,  0.07572035], dtype=float32), 'd2hgq11': array([-0.13042171,  0.09888356, -0.16378476, -0.9864988 , -0.08340281,\n",
      "        0.09716459,  0.0748516 ,  0.17357217,  0.29946563, -0.08157065,\n",
      "        0.30863723,  0.53403085, -0.03421456,  0.29875663, -0.06770294,\n",
      "       -0.04432971, -0.7563771 ,  0.0369667 ,  0.28921363, -0.5648843 ,\n",
      "       -0.06579553,  0.49283764, -0.25008044, -0.19237329,  0.05314796,\n",
      "       -0.1027518 , -0.17740564,  0.08231068,  0.4643969 , -0.7030375 ,\n",
      "        0.22276147,  0.4805507 ,  0.15223816, -0.06418528,  0.610252  ,\n",
      "       -0.05303176, -0.15953986,  0.15606162, -0.07675999, -0.16011804,\n",
      "        0.00653984,  0.08202668,  0.02259412,  0.26677895, -0.10368665,\n",
      "        0.18169384, -0.93597454, -0.7355437 ,  0.19528572,  0.21223944,\n",
      "        0.6501622 ,  0.01848326, -0.04593401, -0.26017258,  0.10576043,\n",
      "        0.03166173, -0.04342958, -0.07085057,  0.02965953,  0.72569895,\n",
      "       -0.20580685,  0.02582666,  0.3992158 ,  0.09555826], dtype=float32), 'd2j0121': array([-0.12629299,  0.09640285, -0.14239845, -0.98253846, -0.09021751,\n",
      "        0.06978617,  0.05725608,  0.17694391,  0.31025493, -0.11168373,\n",
      "        0.30421087,  0.4188454 , -0.02571856,  0.23544925, -0.0953447 ,\n",
      "       -0.05737211, -0.79197687,  0.03892107,  0.27079695, -0.5835927 ,\n",
      "       -0.05538081,  0.4723327 , -0.21788119, -0.16995032,  0.04800637,\n",
      "       -0.10448165, -0.19329531,  0.07881077,  0.40242067, -0.6485017 ,\n",
      "        0.16563682,  0.44812492,  0.15033433, -0.0657971 ,  0.6789574 ,\n",
      "       -0.04895896, -0.19788572,  0.14729464, -0.06097738, -0.1547236 ,\n",
      "        0.0213824 ,  0.08721632,  0.02813853,  0.20102097, -0.14594765,\n",
      "        0.11843744, -0.92932564, -0.7238702 ,  0.14701712,  0.2515078 ,\n",
      "        0.62501985,  0.03489511, -0.0374983 , -0.24955347,  0.09980481,\n",
      "        0.03689149,  0.01442983, -0.09900184,  0.04943655,  0.6769615 ,\n",
      "       -0.17848757,  0.02741206,  0.40548387,  0.10090666], dtype=float32), 'd1vqov1': array([-0.07158166,  0.10706242, -0.11437608, -0.9810524 , -0.04402482,\n",
      "       -0.00217829,  0.05857947,  0.14909427,  0.31031722, -0.09588538,\n",
      "        0.26227337,  0.43701777, -0.04000802,  0.1564121 , -0.2124269 ,\n",
      "       -0.05272926, -0.6835761 ,  0.05107157,  0.2624212 , -0.6285867 ,\n",
      "       -0.04529005,  0.44725156, -0.22999704, -0.17105077,  0.06455404,\n",
      "       -0.12078724, -0.16825135,  0.05182223,  0.40223002, -0.6350079 ,\n",
      "        0.17208724,  0.51861435,  0.16518724, -0.06676409,  0.7578291 ,\n",
      "        0.01464262, -0.1319128 ,  0.12886357, -0.04341015, -0.13875072,\n",
      "        0.00303452,  0.10393772,  0.03101924,  0.12875886, -0.1137443 ,\n",
      "        0.12235123, -0.93132764, -0.6207728 ,  0.1637996 ,  0.19211408,\n",
      "        0.41689026,  0.04976354, -0.03382138, -0.11903345,  0.09381486,\n",
      "        0.02209883,  0.01588726, -0.09011221,  0.03083859,  0.6221167 ,\n",
      "       -0.21480568, -0.00284282,  0.35904896,  0.06143866], dtype=float32)}, 'a.2.3.1': {'d1iura_': array([-0.02014061,  0.08178779, -0.10834335, -0.98581624, -0.07398909,\n",
      "       -0.08647603,  0.04243841,  0.13146022,  0.27935055, -0.11194544,\n",
      "        0.2323937 ,  0.3564151 , -0.02678123,  0.10798999, -0.15966557,\n",
      "       -0.04770463, -0.8960608 ,  0.0271609 ,  0.3421502 , -0.67284477,\n",
      "       -0.08084708,  0.45153642, -0.28257045, -0.18555327,  0.05131557,\n",
      "       -0.1382887 , -0.12268878,  0.09289451,  0.43676442, -0.58163726,\n",
      "        0.14674923,  0.39911887,  0.15032806, -0.03701012,  0.7336936 ,\n",
      "        0.05073857, -0.2298343 ,  0.12037095,  0.00615881, -0.15428586,\n",
      "        0.04456515,  0.09478296,  0.01378438,  0.13169546, -0.18206547,\n",
      "        0.10948809, -0.9368126 , -0.5374804 ,  0.17431441,  0.12757093,\n",
      "        0.5103373 ,  0.02882285, -0.02998825, -0.08384296,  0.11757724,\n",
      "        0.03881304,  0.05479594, -0.01444052, -0.01744055,  0.50131863,\n",
      "       -0.09838887, -0.02250885,  0.29874814,  0.02282436], dtype=float32), 'd1fafa_': array([-1.41290389e-03,  1.00723840e-01, -9.86858159e-02, -9.87460434e-01,\n",
      "       -4.84542288e-02, -9.34035052e-03,  5.40287271e-02,  1.52956903e-01,\n",
      "        2.59363621e-01, -1.16708241e-01,  2.19557196e-01,  5.18710077e-01,\n",
      "        7.21644470e-03,  1.46286383e-01, -7.82920271e-02, -4.66279909e-02,\n",
      "       -9.05749440e-01,  2.90956385e-02,  2.51365930e-01, -6.82959914e-01,\n",
      "       -5.76064363e-02,  4.96585697e-01, -3.19375485e-01, -1.75928622e-01,\n",
      "        5.49217090e-02, -1.12066172e-01, -1.07122183e-01,  7.01638758e-02,\n",
      "        5.81512630e-01, -7.15550721e-01,  1.72934160e-01,  4.17026997e-01,\n",
      "        1.63749576e-01, -7.11398944e-02,  7.27014244e-01,  7.20032910e-03,\n",
      "       -1.81358188e-01,  1.17507115e-01, -3.24244946e-02, -1.15029372e-01,\n",
      "        1.43956272e-02,  1.12661704e-01, -4.65936871e-04,  1.30648077e-01,\n",
      "       -1.62851542e-01,  1.66981891e-01, -9.21972156e-01, -6.32135272e-01,\n",
      "        1.80690661e-01,  1.20363913e-01,  4.04621214e-01,  2.84262449e-02,\n",
      "       -2.20161155e-02, -1.22867301e-01,  8.62269998e-02,  2.39961781e-02,\n",
      "        3.11633591e-02, -2.40242146e-02, -1.04444157e-02,  6.23936713e-01,\n",
      "       -1.27725124e-01, -3.56097072e-02,  4.32376534e-01,  3.55510712e-02],\n",
      "      dtype=float32), 'd1wjza_': array([-0.05772306,  0.05168818, -0.10214821, -0.96996284, -0.02822522,\n",
      "       -0.10267986,  0.05171686,  0.17268741,  0.2610289 , -0.2137571 ,\n",
      "        0.17874487,  0.23849823, -0.00144222,  0.05068397, -0.11246659,\n",
      "       -0.0544909 , -0.8743198 ,  0.02571918,  0.2655101 , -0.6533384 ,\n",
      "       -0.08350297,  0.35685942, -0.28676122, -0.24039079,  0.04605493,\n",
      "       -0.07742381, -0.12335937,  0.04411449,  0.38104802, -0.48098776,\n",
      "        0.13443045,  0.39408237,  0.16836835, -0.11043381,  0.7385636 ,\n",
      "        0.07247483, -0.2649325 ,  0.08898485, -0.01401072, -0.11822215,\n",
      "        0.04425235,  0.18024984, -0.00150448,  0.03762371, -0.22435732,\n",
      "        0.09995892, -0.92202926, -0.45901412,  0.15936878,  0.16371714,\n",
      "        0.56148314,  0.04230674, -0.00996475, -0.09195221,  0.11875594,\n",
      "        0.03501379,  0.05084617, -0.03849334,  0.00364626,  0.37471196,\n",
      "       -0.14092724, -0.02061594,  0.3911997 , -0.00098114], dtype=float32)}}\n"
     ]
    }
   ],
   "source": [
    "classes = dic_init()\n",
    "print(classes)"
   ]
  },
  {
   "cell_type": "code",
   "execution_count": 6,
   "metadata": {},
   "outputs": [
    {
     "name": "stdout",
     "output_type": "stream",
     "text": [
      "{'a.1.1.2': {'d1b0ba_': ('d1scta_', 0.3489246070384979), 'd1sctb_': ('d1scta_', 0.21436138451099396), 'd1scta_': ('d1sctb_', 0.21436138451099396), 'd3sdha_': ('d1sctb_', 0.28723201155662537)}, 'a.1.1.1': {'d1dlya_': ('d1dlwa_', 0.36367663741111755), 'd1dlwa_': ('d1dlya_', 0.36367663741111755)}, 'a.2.2.1': {'d1r73a_': ('d2hgq11', 0.22577500343322754), 'd2hgq11': ('d1r73a_', 0.22577500343322754), 'd2j0121': ('d2hgq11', 0.25743529200553894), 'd1vqov1': ('d2j0121', 0.40468984842300415)}, 'a.2.3.1': {'d1iura_': ('d1wjza_', 0.3824501037597656), 'd1fafa_': ('d1iura_', 0.41205480694770813), 'd1wjza_': ('d1iura_', 0.3824501037597656)}}\n"
     ]
    }
   ],
   "source": [
    "dist_intra = get_dist_intra(classes)\n",
    "print(dist_intra)"
   ]
  },
  {
   "cell_type": "code",
   "execution_count": 7,
   "metadata": {},
   "outputs": [
    {
     "name": "stdout",
     "output_type": "stream",
     "text": [
      "{'a.1.1.2': {'d1b0ba_': ('d1dlya_', 0.3643576502799988), 'd1sctb_': ('d1dlya_', 0.29844632744789124), 'd1scta_': ('d1dlya_', 0.3501546382904053), 'd3sdha_': ('d1dlya_', 0.19076266884803772)}, 'a.1.1.1': {'d1dlya_': ('d3sdha_', 0.19076266884803772), 'd1dlwa_': ('d3sdha_', 0.3733803331851959)}, 'a.2.2.1': {'d1r73a_': ('d1fafa_', 0.5813828706741333), 'd2hgq11': ('d1fafa_', 0.565814733505249), 'd2j0121': ('d1fafa_', 0.5186391472816467), 'd1vqov1': ('d1fafa_', 0.43741369247436523)}, 'a.2.3.1': {'d1iura_': ('d1vqov1', 0.44203561544418335), 'd1fafa_': ('d1vqov1', 0.43741369247436523), 'd1wjza_': ('d1b0ba_', 0.416841059923172)}}\n"
     ]
    }
   ],
   "source": [
    "dist_extra = get_dist_extra(classes)\n",
    "print(dist_extra)"
   ]
  },
  {
   "cell_type": "code",
   "execution_count": 8,
   "metadata": {},
   "outputs": [
    {
     "data": {
      "image/png": "[encoded data removed]",
      "text/plain": [
       "<matplotlib.figure.Figure at 0x7fb55034e160>"
      ]
     },
     "metadata": {},
     "output_type": "display_data"
    }
   ],
   "source": [
    "histo(dist_intra, dist_extra)"
   ]
  }
 ],
 "metadata": {
  "kernelspec": {
   "display_name": "Python 3",
   "language": "python",
   "name": "python3"
  },
  "language_info": {
   "codemirror_mode": {
    "name": "ipython",
    "version": 3
   },
   "file_extension": ".py",
   "mimetype": "text/x-python",
   "name": "python",
   "nbconvert_exporter": "python",
   "pygments_lexer": "ipython3",
   "version": "3.5.2"
  }
 },
 "nbformat": 4,
 "nbformat_minor": 2
}
