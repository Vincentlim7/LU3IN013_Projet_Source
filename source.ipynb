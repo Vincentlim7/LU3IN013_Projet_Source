{
 "cells": [
  {
   "cell_type": "markdown",
   "metadata": {},
   "source": [
    "## How to use the UniRep mLSTM \"babbler\". This version demonstrates the 64-unit and the 1900-unit architecture. \n",
    "\n",
    "We recommend getting started with the 64-unit architecture as it is easier and faster to run, but has the same interface as the 1900-unit one."
   ]
  },
  {
   "cell_type": "markdown",
   "metadata": {},
   "source": [
    "Use the 64-unit or the 1900-unit model?"
   ]
  },
  {
   "cell_type": "code",
   "execution_count": 1,
   "metadata": {
    "collapsed": true
   },
   "outputs": [],
   "source": [
    "USE_FULL_1900_DIM_MODEL = False # if True use 1900 dimensional model, else use 64 dimensional one."
   ]
  },
  {
   "cell_type": "markdown",
   "metadata": {},
   "source": [
    "## Setup"
   ]
  },
  {
   "cell_type": "code",
   "execution_count": 2,
   "metadata": {
    "collapsed": true
   },
   "outputs": [],
   "source": [
    "import tensorflow as tf\n",
    "import numpy as np\n",
    "\n",
    "# Set seeds\n",
    "tf.set_random_seed(42)\n",
    "np.random.seed(42)\n",
    "\n",
    "if USE_FULL_1900_DIM_MODEL:\n",
    "    # Sync relevant weight files\n",
    "    !aws s3 sync --no-sign-request --quiet s3://unirep-public/1900_weights/ 1900_weights/\n",
    "    \n",
    "    # Import the mLSTM babbler model\n",
    "    from unirep import babbler1900 as babbler\n",
    "    \n",
    "    # Where model weights are stored.\n",
    "    MODEL_WEIGHT_PATH = \"./1900_weights\"\n",
    "    \n",
    "else:\n",
    "    # Sync relevant weight files\n",
    "    !aws s3 sync --no-sign-request --quiet s3://unirep-public/64_weights/ 64_weights/\n",
    "    \n",
    "    # Import the mLSTM babbler model\n",
    "    from unirep import babbler64 as babbler\n",
    "    \n",
    "    # Where model weights are stored.\n",
    "    MODEL_WEIGHT_PATH = \"./64_weights\""
   ]
  },
  {
   "cell_type": "markdown",
   "metadata": {},
   "source": [
    "## Data formatting and management"
   ]
  },
  {
   "cell_type": "markdown",
   "metadata": {},
   "source": [
    "Initialize UniRep, also referred to as the \"babbler\" in our code. You need to provide the batch size you will use and the path to the weight directory."
   ]
  },
  {
   "cell_type": "code",
   "execution_count": 7,
   "metadata": {
    "scrolled": true
   },
   "outputs": [
    {
     "ename": "ValueError",
     "evalue": "Variable embed_matrix already exists, disallowed. Did you mean to set reuse=True in VarScope? Originally defined at:\n\n  File \"/notebooks/unirep.py\", line 740, in __init__\n    \"embed_matrix\", dtype=tf.float32, initializer=np.load(os.path.join(self._model_path, \"embed_matrix:0.npy\"))\n  File \"<ipython-input-3-f2a9a4323cd4>\", line 2, in <module>\n    b = babbler(batch_size=batch_size, model_path=MODEL_WEIGHT_PATH)\n  File \"/usr/local/lib/python3.5/dist-packages/IPython/core/interactiveshell.py\", line 2862, in run_code\n    exec(code_obj, self.user_global_ns, self.user_ns)\n",
     "output_type": "error",
     "traceback": [
      "\u001b[0;31m---------------------------------------------------------------------------\u001b[0m",
      "\u001b[0;31mValueError\u001b[0m                                Traceback (most recent call last)",
      "\u001b[0;32m<ipython-input-7-f2a9a4323cd4>\u001b[0m in \u001b[0;36m<module>\u001b[0;34m()\u001b[0m\n\u001b[1;32m      1\u001b[0m \u001b[0mbatch_size\u001b[0m \u001b[0;34m=\u001b[0m \u001b[0;36m12\u001b[0m\u001b[0;34m\u001b[0m\u001b[0m\n\u001b[0;32m----> 2\u001b[0;31m \u001b[0mb\u001b[0m \u001b[0;34m=\u001b[0m \u001b[0mbabbler\u001b[0m\u001b[0;34m(\u001b[0m\u001b[0mbatch_size\u001b[0m\u001b[0;34m=\u001b[0m\u001b[0mbatch_size\u001b[0m\u001b[0;34m,\u001b[0m \u001b[0mmodel_path\u001b[0m\u001b[0;34m=\u001b[0m\u001b[0mMODEL_WEIGHT_PATH\u001b[0m\u001b[0;34m)\u001b[0m\u001b[0;34m\u001b[0m\u001b[0m\n\u001b[0m",
      "\u001b[0;32m/notebooks/unirep.py\u001b[0m in \u001b[0;36m__init__\u001b[0;34m(self, model_path, batch_size)\u001b[0m\n\u001b[1;32m    738\u001b[0m \u001b[0;34m\u001b[0m\u001b[0m\n\u001b[1;32m    739\u001b[0m         embed_matrix = tf.get_variable(\n\u001b[0;32m--> 740\u001b[0;31m             \u001b[0;34m\"embed_matrix\"\u001b[0m\u001b[0;34m,\u001b[0m \u001b[0mdtype\u001b[0m\u001b[0;34m=\u001b[0m\u001b[0mtf\u001b[0m\u001b[0;34m.\u001b[0m\u001b[0mfloat32\u001b[0m\u001b[0;34m,\u001b[0m \u001b[0minitializer\u001b[0m\u001b[0;34m=\u001b[0m\u001b[0mnp\u001b[0m\u001b[0;34m.\u001b[0m\u001b[0mload\u001b[0m\u001b[0;34m(\u001b[0m\u001b[0mos\u001b[0m\u001b[0;34m.\u001b[0m\u001b[0mpath\u001b[0m\u001b[0;34m.\u001b[0m\u001b[0mjoin\u001b[0m\u001b[0;34m(\u001b[0m\u001b[0mself\u001b[0m\u001b[0;34m.\u001b[0m\u001b[0m_model_path\u001b[0m\u001b[0;34m,\u001b[0m \u001b[0;34m\"embed_matrix:0.npy\"\u001b[0m\u001b[0;34m)\u001b[0m\u001b[0;34m)\u001b[0m\u001b[0;34m\u001b[0m\u001b[0m\n\u001b[0m\u001b[1;32m    741\u001b[0m         )\n\u001b[1;32m    742\u001b[0m         \u001b[0membed_cell\u001b[0m \u001b[0;34m=\u001b[0m \u001b[0mtf\u001b[0m\u001b[0;34m.\u001b[0m\u001b[0mnn\u001b[0m\u001b[0;34m.\u001b[0m\u001b[0membedding_lookup\u001b[0m\u001b[0;34m(\u001b[0m\u001b[0membed_matrix\u001b[0m\u001b[0;34m,\u001b[0m \u001b[0mself\u001b[0m\u001b[0;34m.\u001b[0m\u001b[0m_minibatch_x_placeholder\u001b[0m\u001b[0;34m)\u001b[0m\u001b[0;34m\u001b[0m\u001b[0m\n",
      "\u001b[0;32m/usr/local/lib/python3.5/dist-packages/tensorflow/python/ops/variable_scope.py\u001b[0m in \u001b[0;36mget_variable\u001b[0;34m(name, shape, dtype, initializer, regularizer, trainable, collections, caching_device, partitioner, validate_shape, use_resource, custom_getter)\u001b[0m\n\u001b[1;32m   1063\u001b[0m       \u001b[0mcollections\u001b[0m\u001b[0;34m=\u001b[0m\u001b[0mcollections\u001b[0m\u001b[0;34m,\u001b[0m \u001b[0mcaching_device\u001b[0m\u001b[0;34m=\u001b[0m\u001b[0mcaching_device\u001b[0m\u001b[0;34m,\u001b[0m\u001b[0;34m\u001b[0m\u001b[0m\n\u001b[1;32m   1064\u001b[0m       \u001b[0mpartitioner\u001b[0m\u001b[0;34m=\u001b[0m\u001b[0mpartitioner\u001b[0m\u001b[0;34m,\u001b[0m \u001b[0mvalidate_shape\u001b[0m\u001b[0;34m=\u001b[0m\u001b[0mvalidate_shape\u001b[0m\u001b[0;34m,\u001b[0m\u001b[0;34m\u001b[0m\u001b[0m\n\u001b[0;32m-> 1065\u001b[0;31m       use_resource=use_resource, custom_getter=custom_getter)\n\u001b[0m\u001b[1;32m   1066\u001b[0m get_variable_or_local_docstring = (\n\u001b[1;32m   1067\u001b[0m     \"\"\"%s\n",
      "\u001b[0;32m/usr/local/lib/python3.5/dist-packages/tensorflow/python/ops/variable_scope.py\u001b[0m in \u001b[0;36mget_variable\u001b[0;34m(self, var_store, name, shape, dtype, initializer, regularizer, reuse, trainable, collections, caching_device, partitioner, validate_shape, use_resource, custom_getter)\u001b[0m\n\u001b[1;32m    960\u001b[0m           \u001b[0mcollections\u001b[0m\u001b[0;34m=\u001b[0m\u001b[0mcollections\u001b[0m\u001b[0;34m,\u001b[0m \u001b[0mcaching_device\u001b[0m\u001b[0;34m=\u001b[0m\u001b[0mcaching_device\u001b[0m\u001b[0;34m,\u001b[0m\u001b[0;34m\u001b[0m\u001b[0m\n\u001b[1;32m    961\u001b[0m           \u001b[0mpartitioner\u001b[0m\u001b[0;34m=\u001b[0m\u001b[0mpartitioner\u001b[0m\u001b[0;34m,\u001b[0m \u001b[0mvalidate_shape\u001b[0m\u001b[0;34m=\u001b[0m\u001b[0mvalidate_shape\u001b[0m\u001b[0;34m,\u001b[0m\u001b[0;34m\u001b[0m\u001b[0m\n\u001b[0;32m--> 962\u001b[0;31m           use_resource=use_resource, custom_getter=custom_getter)\n\u001b[0m\u001b[1;32m    963\u001b[0m \u001b[0;34m\u001b[0m\u001b[0m\n\u001b[1;32m    964\u001b[0m   def _get_partitioned_variable(self,\n",
      "\u001b[0;32m/usr/local/lib/python3.5/dist-packages/tensorflow/python/ops/variable_scope.py\u001b[0m in \u001b[0;36mget_variable\u001b[0;34m(self, name, shape, dtype, initializer, regularizer, reuse, trainable, collections, caching_device, partitioner, validate_shape, use_resource, custom_getter)\u001b[0m\n\u001b[1;32m    365\u001b[0m           \u001b[0mreuse\u001b[0m\u001b[0;34m=\u001b[0m\u001b[0mreuse\u001b[0m\u001b[0;34m,\u001b[0m \u001b[0mtrainable\u001b[0m\u001b[0;34m=\u001b[0m\u001b[0mtrainable\u001b[0m\u001b[0;34m,\u001b[0m \u001b[0mcollections\u001b[0m\u001b[0;34m=\u001b[0m\u001b[0mcollections\u001b[0m\u001b[0;34m,\u001b[0m\u001b[0;34m\u001b[0m\u001b[0m\n\u001b[1;32m    366\u001b[0m           \u001b[0mcaching_device\u001b[0m\u001b[0;34m=\u001b[0m\u001b[0mcaching_device\u001b[0m\u001b[0;34m,\u001b[0m \u001b[0mpartitioner\u001b[0m\u001b[0;34m=\u001b[0m\u001b[0mpartitioner\u001b[0m\u001b[0;34m,\u001b[0m\u001b[0;34m\u001b[0m\u001b[0m\n\u001b[0;32m--> 367\u001b[0;31m           validate_shape=validate_shape, use_resource=use_resource)\n\u001b[0m\u001b[1;32m    368\u001b[0m \u001b[0;34m\u001b[0m\u001b[0m\n\u001b[1;32m    369\u001b[0m   def _get_partitioned_variable(\n",
      "\u001b[0;32m/usr/local/lib/python3.5/dist-packages/tensorflow/python/ops/variable_scope.py\u001b[0m in \u001b[0;36m_true_getter\u001b[0;34m(name, shape, dtype, initializer, regularizer, reuse, trainable, collections, caching_device, partitioner, validate_shape, use_resource)\u001b[0m\n\u001b[1;32m    350\u001b[0m           \u001b[0mtrainable\u001b[0m\u001b[0;34m=\u001b[0m\u001b[0mtrainable\u001b[0m\u001b[0;34m,\u001b[0m \u001b[0mcollections\u001b[0m\u001b[0;34m=\u001b[0m\u001b[0mcollections\u001b[0m\u001b[0;34m,\u001b[0m\u001b[0;34m\u001b[0m\u001b[0m\n\u001b[1;32m    351\u001b[0m           \u001b[0mcaching_device\u001b[0m\u001b[0;34m=\u001b[0m\u001b[0mcaching_device\u001b[0m\u001b[0;34m,\u001b[0m \u001b[0mvalidate_shape\u001b[0m\u001b[0;34m=\u001b[0m\u001b[0mvalidate_shape\u001b[0m\u001b[0;34m,\u001b[0m\u001b[0;34m\u001b[0m\u001b[0m\n\u001b[0;32m--> 352\u001b[0;31m           use_resource=use_resource)\n\u001b[0m\u001b[1;32m    353\u001b[0m \u001b[0;34m\u001b[0m\u001b[0m\n\u001b[1;32m    354\u001b[0m     \u001b[0;32mif\u001b[0m \u001b[0mcustom_getter\u001b[0m \u001b[0;32mis\u001b[0m \u001b[0;32mnot\u001b[0m \u001b[0;32mNone\u001b[0m\u001b[0;34m:\u001b[0m\u001b[0;34m\u001b[0m\u001b[0m\n",
      "\u001b[0;32m/usr/local/lib/python3.5/dist-packages/tensorflow/python/ops/variable_scope.py\u001b[0m in \u001b[0;36m_get_single_variable\u001b[0;34m(self, name, shape, dtype, initializer, regularizer, partition_info, reuse, trainable, collections, caching_device, validate_shape, use_resource)\u001b[0m\n\u001b[1;32m    662\u001b[0m                          \u001b[0;34m\" Did you mean to set reuse=True in VarScope? \"\u001b[0m\u001b[0;34m\u001b[0m\u001b[0m\n\u001b[1;32m    663\u001b[0m                          \"Originally defined at:\\n\\n%s\" % (\n\u001b[0;32m--> 664\u001b[0;31m                              name, \"\".join(traceback.format_list(tb))))\n\u001b[0m\u001b[1;32m    665\u001b[0m       \u001b[0mfound_var\u001b[0m \u001b[0;34m=\u001b[0m \u001b[0mself\u001b[0m\u001b[0;34m.\u001b[0m\u001b[0m_vars\u001b[0m\u001b[0;34m[\u001b[0m\u001b[0mname\u001b[0m\u001b[0;34m]\u001b[0m\u001b[0;34m\u001b[0m\u001b[0m\n\u001b[1;32m    666\u001b[0m       \u001b[0;32mif\u001b[0m \u001b[0;32mnot\u001b[0m \u001b[0mshape\u001b[0m\u001b[0;34m.\u001b[0m\u001b[0mis_compatible_with\u001b[0m\u001b[0;34m(\u001b[0m\u001b[0mfound_var\u001b[0m\u001b[0;34m.\u001b[0m\u001b[0mget_shape\u001b[0m\u001b[0;34m(\u001b[0m\u001b[0;34m)\u001b[0m\u001b[0;34m)\u001b[0m\u001b[0;34m:\u001b[0m\u001b[0;34m\u001b[0m\u001b[0m\n",
      "\u001b[0;31mValueError\u001b[0m: Variable embed_matrix already exists, disallowed. Did you mean to set reuse=True in VarScope? Originally defined at:\n\n  File \"/notebooks/unirep.py\", line 740, in __init__\n    \"embed_matrix\", dtype=tf.float32, initializer=np.load(os.path.join(self._model_path, \"embed_matrix:0.npy\"))\n  File \"<ipython-input-3-f2a9a4323cd4>\", line 2, in <module>\n    b = babbler(batch_size=batch_size, model_path=MODEL_WEIGHT_PATH)\n  File \"/usr/local/lib/python3.5/dist-packages/IPython/core/interactiveshell.py\", line 2862, in run_code\n    exec(code_obj, self.user_global_ns, self.user_ns)\n"
     ]
    }
   ],
   "source": [
    "batch_size = 12\n",
    "b = babbler(batch_size=batch_size, model_path=MODEL_WEIGHT_PATH)"
   ]
  },
  {
   "cell_type": "markdown",
   "metadata": {},
   "source": [
    "UniRep needs to receive data in the correct format, a (batch_size, max_seq_len) matrix with integer values, where the integers correspond to an amino acid label at that position, and the end of the sequence is padded with 0s until the max sequence length to form a non-ragged rectangular matrix. We provide a formatting function to translate a string of amino acids into a list of integers with the correct codex:"
   ]
  },
  {
   "cell_type": "code",
   "execution_count": 8,
   "metadata": {
    "collapsed": true
   },
   "outputs": [],
   "source": [
    "seq = \"MRKGEELFTGVVPILVELDGDVNGHKFSVRGEGEGDATNGKLTLKFICTTGKLPVPWPTLVTTLTYGVQCFARYPDHMKQHDFFKSAMPEGYVQERTISFKDDGTYKTRAEVKFEGDTLVNRIELKGIDFKEDGNILGHKLEYNFNSHNVYITADKQKNGIKANFKIRHNVEDGSVQLADHYQQNTPIGDGPVLLPDNHYLSTQSVLSKDPNEKRDHMVLLEFVTAAGITHGMDELYK\""
   ]
  },
  {
   "cell_type": "code",
   "execution_count": 11,
   "metadata": {},
   "outputs": [
    {
     "name": "stdout",
     "output_type": "stream",
     "text": [
      "[1, 2, 3]\n",
      "5.196152422706632\n"
     ]
    }
   ],
   "source": [
    "from scipy.spatial import distance\n",
    "a = [1, 2, 3]\n",
    "b = [4, 5, 6]\n",
    "dst = distance.euclidean(a, b)\n",
    "c = np.zeros((4, 6))\n",
    "print(c)\n",
    "print(a+c)\n",
    "print(dst)"
   ]
  },
  {
   "cell_type": "code",
   "execution_count": 10,
   "metadata": {},
   "outputs": [
    {
     "name": "stdout",
     "output_type": "stream",
     "text": [
      "['d1dlya_', 'd1s69a_', 'd1idra_', 'd1ngka_', 'd1ux8a_']\n",
      "['d1dlya_', 'd1s69a_', 'd1idra_', 'd1ngka_', 'd1ux8a_']\n",
      "[('SLFAKLGGREAVEAAVDKFYNKIVADPTVSTYFSNTDMKVQRSKQFAFLAYALGGASEWKGKDMRTAHKDLVPHLSDVHFQAVARHLSDTLTELGVPPEDITDAMAVVASTRTEVLNMPQQ', array([24,  7, 21, 18, 15,  4, 21, 13, 13,  2,  6, 15, 16,  6, 15, 15, 16,\n",
      "        5,  4, 18, 19,  9,  4, 17, 16, 15,  5, 14,  8, 16,  7,  8, 19, 18,\n",
      "        7,  9,  8,  5,  1,  4, 16, 10,  2,  7,  4, 10, 18, 15, 18, 21, 15,\n",
      "       19, 15, 21, 13, 13, 15,  7,  6, 20,  4, 13,  4,  5,  1,  2,  8, 15,\n",
      "        3,  4,  5, 21, 16, 14,  3, 21,  7,  5, 16,  3, 18, 10, 15, 16, 15,\n",
      "        2,  3, 21,  7,  5,  8, 21,  8,  6, 21, 13, 16, 14, 14,  6,  5, 17,\n",
      "        8,  5, 15,  1, 15, 16, 16, 15,  7,  8,  2,  8,  6, 16, 21,  9,  1,\n",
      "       14, 10, 10])), ('SLFAKLGGREAVEAAVDKFYNKIVADPTVSTYFSNTDMKVQRSKQFAFLAYALGGASEWKGKDMRTAHKDLVPHLSDVHFQAVARHLSDTLTELGVPPEDITDAMAVVASTRTEVLNMPQQ', array([24,  7, 21, 18, 15,  4, 21, 13, 13,  2,  6, 15, 16,  6, 15, 15, 16,\n",
      "        5,  4, 18, 19,  9,  4, 17, 16, 15,  5, 14,  8, 16,  7,  8, 19, 18,\n",
      "        7,  9,  8,  5,  1,  4, 16, 10,  2,  7,  4, 10, 18, 15, 18, 21, 15,\n",
      "       19, 15, 21, 13, 13, 15,  7,  6, 20,  4, 13,  4,  5,  1,  2,  8, 15,\n",
      "        3,  4,  5, 21, 16, 14,  3, 21,  7,  5, 16,  3, 18, 10, 15, 16, 15,\n",
      "        2,  3, 21,  7,  5,  8, 21,  8,  6, 21, 13, 16, 14, 14,  6,  5, 17,\n",
      "        8,  5, 15,  1, 15, 16, 16, 15,  7,  8,  2,  8,  6, 16, 21,  9,  1,\n",
      "       14, 10, 10])), ('SLFAKLGGREAVEAAVDKFYNKIVADPTVSTYFSNTDMKVQRSKQFAFLAYALGGASEWKGKDMRTAHKDLVPHLSDVHFQAVARHLSDTLTELGVPPEDITDAMAVVASTRTEVLNMPQQ', array([24,  7, 21, 18, 15,  4, 21, 13, 13,  2,  6, 15, 16,  6, 15, 15, 16,\n",
      "        5,  4, 18, 19,  9,  4, 17, 16, 15,  5, 14,  8, 16,  7,  8, 19, 18,\n",
      "        7,  9,  8,  5,  1,  4, 16, 10,  2,  7,  4, 10, 18, 15, 18, 21, 15,\n",
      "       19, 15, 21, 13, 13, 15,  7,  6, 20,  4, 13,  4,  5,  1,  2,  8, 15,\n",
      "        3,  4,  5, 21, 16, 14,  3, 21,  7,  5, 16,  3, 18, 10, 15, 16, 15,\n",
      "        2,  3, 21,  7,  5,  8, 21,  8,  6, 21, 13, 16, 14, 14,  6,  5, 17,\n",
      "        8,  5, 15,  1, 15, 16, 16, 15,  7,  8,  2,  8,  6, 16, 21,  9,  1,\n",
      "       14, 10, 10])), ('SLFAKLGGREAVEAAVDKFYNKIVADPTVSTYFSNTDMKVQRSKQFAFLAYALGGASEWKGKDMRTAHKDLVPHLSDVHFQAVARHLSDTLTELGVPPEDITDAMAVVASTRTEVLNMPQQ', array([24,  7, 21, 18, 15,  4, 21, 13, 13,  2,  6, 15, 16,  6, 15, 15, 16,\n",
      "        5,  4, 18, 19,  9,  4, 17, 16, 15,  5, 14,  8, 16,  7,  8, 19, 18,\n",
      "        7,  9,  8,  5,  1,  4, 16, 10,  2,  7,  4, 10, 18, 15, 18, 21, 15,\n",
      "       19, 15, 21, 13, 13, 15,  7,  6, 20,  4, 13,  4,  5,  1,  2,  8, 15,\n",
      "        3,  4,  5, 21, 16, 14,  3, 21,  7,  5, 16,  3, 18, 10, 15, 16, 15,\n",
      "        2,  3, 21,  7,  5,  8, 21,  8,  6, 21, 13, 16, 14, 14,  6,  5, 17,\n",
      "        8,  5, 15,  1, 15, 16, 16, 15,  7,  8,  2,  8,  6, 16, 21,  9,  1,\n",
      "       14, 10, 10])), ('SLFAKLGGREAVEAAVDKFYNKIVADPTVSTYFSNTDMKVQRSKQFAFLAYALGGASEWKGKDMRTAHKDLVPHLSDVHFQAVARHLSDTLTELGVPPEDITDAMAVVASTRTEVLNMPQQ', array([24,  7, 21, 18, 15,  4, 21, 13, 13,  2,  6, 15, 16,  6, 15, 15, 16,\n",
      "        5,  4, 18, 19,  9,  4, 17, 16, 15,  5, 14,  8, 16,  7,  8, 19, 18,\n",
      "        7,  9,  8,  5,  1,  4, 16, 10,  2,  7,  4, 10, 18, 15, 18, 21, 15,\n",
      "       19, 15, 21, 13, 13, 15,  7,  6, 20,  4, 13,  4,  5,  1,  2,  8, 15,\n",
      "        3,  4,  5, 21, 16, 14,  3, 21,  7,  5, 16,  3, 18, 10, 15, 16, 15,\n",
      "        2,  3, 21,  7,  5,  8, 21,  8,  6, 21, 13, 16, 14, 14,  6,  5, 17,\n",
      "        8,  5, 15,  1, 15, 16, 16, 15,  7,  8,  2,  8,  6, 16, 21,  9,  1,\n",
      "       14, 10, 10]))]\n",
      "[('SLFAKLGGREAVEAAVDKFYNKIVADPTVSTYFSNTDMKVQRSKQFAFLAYALGGASEWKGKDMRTAHKDLVPHLSDVHFQAVARHLSDTLTELGVPPEDITDAMAVVASTRTEVLNMPQQ', array([24,  7, 21, 18, 15,  4, 21, 13, 13,  2,  6, 15, 16,  6, 15, 15, 16,\n",
      "        5,  4, 18, 19,  9,  4, 17, 16, 15,  5, 14,  8, 16,  7,  8, 19, 18,\n",
      "        7,  9,  8,  5,  1,  4, 16, 10,  2,  7,  4, 10, 18, 15, 18, 21, 15,\n",
      "       19, 15, 21, 13, 13, 15,  7,  6, 20,  4, 13,  4,  5,  1,  2,  8, 15,\n",
      "        3,  4,  5, 21, 16, 14,  3, 21,  7,  5, 16,  3, 18, 10, 15, 16, 15,\n",
      "        2,  3, 21,  7,  5,  8, 21,  8,  6, 21, 13, 16, 14, 14,  6,  5, 17,\n",
      "        8,  5, 15,  1, 15, 16, 16, 15,  7,  8,  2,  8,  6, 16, 21,  9,  1,\n",
      "       14, 10, 10])), ('SLFAKLGGREAVEAAVDKFYNKIVADPTVSTYFSNTDMKVQRSKQFAFLAYALGGASEWKGKDMRTAHKDLVPHLSDVHFQAVARHLSDTLTELGVPPEDITDAMAVVASTRTEVLNMPQQ', array([24,  7, 21, 18, 15,  4, 21, 13, 13,  2,  6, 15, 16,  6, 15, 15, 16,\n",
      "        5,  4, 18, 19,  9,  4, 17, 16, 15,  5, 14,  8, 16,  7,  8, 19, 18,\n",
      "        7,  9,  8,  5,  1,  4, 16, 10,  2,  7,  4, 10, 18, 15, 18, 21, 15,\n",
      "       19, 15, 21, 13, 13, 15,  7,  6, 20,  4, 13,  4,  5,  1,  2,  8, 15,\n",
      "        3,  4,  5, 21, 16, 14,  3, 21,  7,  5, 16,  3, 18, 10, 15, 16, 15,\n",
      "        2,  3, 21,  7,  5,  8, 21,  8,  6, 21, 13, 16, 14, 14,  6,  5, 17,\n",
      "        8,  5, 15,  1, 15, 16, 16, 15,  7,  8,  2,  8,  6, 16, 21,  9,  1,\n",
      "       14, 10, 10])), ('SLFAKLGGREAVEAAVDKFYNKIVADPTVSTYFSNTDMKVQRSKQFAFLAYALGGASEWKGKDMRTAHKDLVPHLSDVHFQAVARHLSDTLTELGVPPEDITDAMAVVASTRTEVLNMPQQ', array([24,  7, 21, 18, 15,  4, 21, 13, 13,  2,  6, 15, 16,  6, 15, 15, 16,\n",
      "        5,  4, 18, 19,  9,  4, 17, 16, 15,  5, 14,  8, 16,  7,  8, 19, 18,\n",
      "        7,  9,  8,  5,  1,  4, 16, 10,  2,  7,  4, 10, 18, 15, 18, 21, 15,\n",
      "       19, 15, 21, 13, 13, 15,  7,  6, 20,  4, 13,  4,  5,  1,  2,  8, 15,\n",
      "        3,  4,  5, 21, 16, 14,  3, 21,  7,  5, 16,  3, 18, 10, 15, 16, 15,\n",
      "        2,  3, 21,  7,  5,  8, 21,  8,  6, 21, 13, 16, 14, 14,  6,  5, 17,\n",
      "        8,  5, 15,  1, 15, 16, 16, 15,  7,  8,  2,  8,  6, 16, 21,  9,  1,\n",
      "       14, 10, 10])), ('SLFAKLGGREAVEAAVDKFYNKIVADPTVSTYFSNTDMKVQRSKQFAFLAYALGGASEWKGKDMRTAHKDLVPHLSDVHFQAVARHLSDTLTELGVPPEDITDAMAVVASTRTEVLNMPQQ', array([24,  7, 21, 18, 15,  4, 21, 13, 13,  2,  6, 15, 16,  6, 15, 15, 16,\n",
      "        5,  4, 18, 19,  9,  4, 17, 16, 15,  5, 14,  8, 16,  7,  8, 19, 18,\n",
      "        7,  9,  8,  5,  1,  4, 16, 10,  2,  7,  4, 10, 18, 15, 18, 21, 15,\n",
      "       19, 15, 21, 13, 13, 15,  7,  6, 20,  4, 13,  4,  5,  1,  2,  8, 15,\n",
      "        3,  4,  5, 21, 16, 14,  3, 21,  7,  5, 16,  3, 18, 10, 15, 16, 15,\n",
      "        2,  3, 21,  7,  5,  8, 21,  8,  6, 21, 13, 16, 14, 14,  6,  5, 17,\n",
      "        8,  5, 15,  1, 15, 16, 16, 15,  7,  8,  2,  8,  6, 16, 21,  9,  1,\n",
      "       14, 10, 10])), ('SLFAKLGGREAVEAAVDKFYNKIVADPTVSTYFSNTDMKVQRSKQFAFLAYALGGASEWKGKDMRTAHKDLVPHLSDVHFQAVARHLSDTLTELGVPPEDITDAMAVVASTRTEVLNMPQQ', array([24,  7, 21, 18, 15,  4, 21, 13, 13,  2,  6, 15, 16,  6, 15, 15, 16,\n",
      "        5,  4, 18, 19,  9,  4, 17, 16, 15,  5, 14,  8, 16,  7,  8, 19, 18,\n",
      "        7,  9,  8,  5,  1,  4, 16, 10,  2,  7,  4, 10, 18, 15, 18, 21, 15,\n",
      "       19, 15, 21, 13, 13, 15,  7,  6, 20,  4, 13,  4,  5,  1,  2,  8, 15,\n",
      "        3,  4,  5, 21, 16, 14,  3, 21,  7,  5, 16,  3, 18, 10, 15, 16, 15,\n",
      "        2,  3, 21,  7,  5,  8, 21,  8,  6, 21, 13, 16, 14, 14,  6,  5, 17,\n",
      "        8,  5, 15,  1, 15, 16, 16, 15,  7,  8,  2,  8,  6, 16, 21,  9,  1,\n",
      "       14, 10, 10]))]\n"
     ]
    },
    {
     "data": {
      "text/plain": [
       "'rd_protein = random_line(\"fullProtein.list\")\\nprint(random_protein)\\n\\nfile_name = \"dataset/fastas/\" + protein[0] + \".fasta\"\\nrd_file_name = \"dataset/fastas/\" + rd_protein[0] + \".fasta\"\\n\\nseq, seq_vector = get_seq(file_name)\\nrd_seq, rd_seq_vector = get_seq(rd_file_name)\\n\\nprint(\"Studied sequence :\")\\nprint(seq + \"\\n\")\\nprint(\"Sequence size : \" + str(len(seq)) + \"\\n\")\\nprint(\"Vector representation of the sequence :\\n\" + str(seq_vector) + \"\\n\")\\nprint(\"Vector size : \" + str(len(seq_vector)) + \"\\n\")\\nprint(\"Is seq a valide sequence ?\\n\" + str(b.is_valid_seq(seq)) + \"\\n\")\\n'"
      ]
     },
     "execution_count": 10,
     "metadata": {},
     "output_type": "execute_result"
    }
   ],
   "source": [
    "from scipy.spatial import distance\n",
    "\n",
    "def random_line(file_name):\n",
    "    lines = open(file_name).read().splitlines()\n",
    "    return np.random.choice(lines).split()\n",
    "\n",
    "def get_seq(file_name):\n",
    "    f = open(\"dataset/fastas/\" + file_name + \".fasta\", \"r\")\n",
    "    next(f)\n",
    "    seq = \"\"\n",
    "    for line in f:\n",
    "        tmp = line.rstrip()    # Supprimer le \"\\n\"\n",
    "        seq += tmp\n",
    "    f.close\n",
    "    seq_vector = np.array(b.format_seq(seq))\n",
    "    return seq, seq_vector\n",
    "\n",
    "f = open(\"fullProtein.list\")\n",
    "\n",
    "line = next(f).split()\n",
    "studied_prot = get_seq(line[0])\n",
    "\n",
    "same_class = []\n",
    "rd_class = []\n",
    "\n",
    "nb_seq_class = 5\n",
    "\n",
    "\n",
    "for i in range (nb_seq_class): #Recuperer les noms de fichiers\n",
    "    line = next(f).split()\n",
    "    same_class.append(line[0])\n",
    "    rd_protein =random_line(\"fullProtein.list\")\n",
    "    rd_class.append(line[0])\n",
    "    \n",
    "f.close\n",
    "\n",
    "print(same_class)\n",
    "print(rd_class)\n",
    "\n",
    "seq_list1 = [] # Recuperer les sequences\n",
    "dist1 = []\n",
    "for i in range(nb_seq_class):\n",
    "    prot = get_seq(same_class[0])\n",
    "    seq_list1.append(prot)\n",
    "    #dist1.append(distance.euclidean(studied_prot[1], prot[1]))\n",
    "\n",
    "seq_list2 = []\n",
    "dist2 = []\n",
    "for i in range(nb_seq_class):\n",
    "    prot = get_seq(rd_class[0])\n",
    "    seq_list2.append(prot)\n",
    "    #dist2.append(distance.euclidean(studied_prot[1], prot[1]))\n",
    "\n",
    "print(seq_list1)\n",
    "print(seq_list2)\n",
    "\n",
    "\"\"\"rd_protein = random_line(\"fullProtein.list\")\n",
    "print(random_protein)\n",
    "\n",
    "file_name = \"dataset/fastas/\" + protein[0] + \".fasta\"\n",
    "rd_file_name = \"dataset/fastas/\" + rd_protein[0] + \".fasta\"\n",
    "\n",
    "seq, seq_vector = get_seq(file_name)\n",
    "rd_seq, rd_seq_vector = get_seq(rd_file_name)\n",
    "\n",
    "print(\"Studied sequence :\")\n",
    "print(seq + \"\\n\")\n",
    "print(\"Sequence size : \" + str(len(seq)) + \"\\n\")\n",
    "print(\"Vector representation of the sequence :\\n\" + str(seq_vector) + \"\\n\")\n",
    "print(\"Vector size : \" + str(len(seq_vector)) + \"\\n\")\n",
    "print(\"Is seq a valide sequence ?\\n\" + str(b.is_valid_seq(seq)) + \"\\n\")\n",
    "\"\"\""
   ]
  },
  {
   "cell_type": "code",
   "execution_count": 9,
   "metadata": {},
   "outputs": [
    {
     "data": {
      "text/plain": [
       "array([24,  1,  2,  4, 13,  6,  6, 21, 18,  8, 13, 16, 16, 14, 17, 21, 16,\n",
       "        6, 21,  5, 13,  5, 16,  9, 13,  3,  4, 18,  7, 16,  2, 13,  6, 13,\n",
       "        6, 13,  5, 15,  8,  9, 13,  4, 21,  8, 21,  4, 18, 17, 11,  8,  8,\n",
       "       13,  4, 21, 14, 16, 14, 20, 14,  8, 21, 16,  8,  8, 21,  8, 19, 13,\n",
       "       16, 10, 11, 18, 15,  2, 19, 14,  5,  3,  1,  4, 10,  3,  5, 18, 18,\n",
       "        4,  7, 15,  1, 14,  6, 13, 19, 16, 10,  6,  2,  8, 17,  7, 18,  4,\n",
       "        5,  5, 13,  8, 19,  4,  8,  2, 15,  6, 16,  4, 18,  6, 13,  5,  8,\n",
       "       21, 16,  9,  2, 17,  6, 21,  4, 13, 17,  5, 18,  4,  6,  5, 13,  9,\n",
       "       17, 21, 13,  3,  4, 21,  6, 19,  9, 18,  9,  7,  3,  9, 16, 19, 17,\n",
       "        8, 15,  5,  4, 10,  4,  9, 13, 17,  4, 15,  9, 18,  4, 17,  2,  3,\n",
       "        9, 16,  6,  5, 13,  7, 16, 10, 21, 15,  5,  3, 19, 10, 10,  9,  8,\n",
       "       14, 17, 13,  5, 13, 14, 16, 21, 21, 14,  5,  9,  3, 19, 21,  7,  8,\n",
       "       10,  7, 16, 21,  7,  4,  5, 14,  9,  6,  4,  2,  5,  3,  1, 16, 21,\n",
       "       21,  6, 18, 16,  8, 15, 15, 13, 17,  8,  3, 13,  1,  5,  6, 21, 19,\n",
       "        4])"
      ]
     },
     "execution_count": 9,
     "metadata": {},
     "output_type": "execute_result"
    }
   ],
   "source": [
    "np.array(b.format_seq(seq))"
   ]
  },
  {
   "cell_type": "markdown",
   "metadata": {},
   "source": [
    "We also provide a function that will check your amino acid sequences don't contain any characters which will break the UniRep model."
   ]
  },
  {
   "cell_type": "code",
   "execution_count": null,
   "metadata": {
    "collapsed": true
   },
   "outputs": [],
   "source": [
    "b.is_valid_seq(seq)"
   ]
  },
  {
   "cell_type": "markdown",
   "metadata": {},
   "source": [
    "You could use your own data flow as long as you ensure that the data format is obeyed. Alternatively, you can use the data flow we've implemented for UniRep training, which happens in the tensorflow graph. It reads from a file of integer sequences, shuffles them around, collects them into groups of similar length (to minimize padding waste) and pads them to the max_length. Here's how to do that:"
   ]
  },
  {
   "cell_type": "markdown",
   "metadata": {},
   "source": [
    "First, sequences need to be saved in the correct format. Suppose we have a new-line seperated file of amino acid sequences, `seqs.txt`, and we want to format them. Note that training is currently only publicly supported for amino acid sequences less than 275 amino acids as gradient updates for sequences longer than that start to get unwieldy. If you want to train on sequences longer than this, please reach out to us. \n",
    "\n",
    "Sequence formatting can be done as follows:"
   ]
  },
  {
   "cell_type": "code",
   "execution_count": 154,
   "metadata": {
    "collapsed": true
   },
   "outputs": [],
   "source": [
    "# Before you can train your model, \n",
    "with open(\"seqs.txt\", \"r\") as source:\n",
    "    with open(\"formatted.txt\", \"w\") as destination:\n",
    "        for i,seq in enumerate(source):\n",
    "            seq = seq.strip()\n",
    "            if b.is_valid_seq(seq) and len(seq) < 275: \n",
    "                formatted = \",\".join(map(str,b.format_seq(seq)))\n",
    "                destination.write(formatted)\n",
    "                destination.write('\\n')"
   ]
  },
  {
   "cell_type": "markdown",
   "metadata": {},
   "source": [
    "This is what the integer format looks like"
   ]
  },
  {
   "cell_type": "code",
   "execution_count": 73,
   "metadata": {},
   "outputs": [
    {
     "name": "stdout",
     "output_type": "stream",
     "text": [
      "24,1,2,4,13,6,6,21,18,8,13,16,16,14,17,21,16,6,21,5,13,5,16,9,13,3,4,18,7,16,2,13,6,13,6,13,5,15,8,9,13,4,21,8,21,4,18,17,11,8,8,13,4,21,14,16,14,20,14,8,21,16,8,8,21,8,19,13,16,10,11,18,15,2,19,14,5,3,1,4,10,3,5,18,18,4,7,15,1,14,6,13,19,16,10,6,2,8,17,7,18,4,5,5,13,8,19,4,8,2,15,6,16,4,18,6,13,5,8,21,16,9,2,17,6,21,4,13,17,5,18,4,6,5,13,9,17,21,13,3,4,21,6,19,9,18,9,7,3,9,16,19,17,8,15,5,4,10,4,9,13,17,4,15,9,18,4,17,2,3,9,16,6,5,13,7,16,10,21,15,5,3,19,10,10,9,8,14,17,13,5,13,14,16,21,21,14,5,9,3,19,21,7,8,10,7,16,21,7,4,5,14,9,6,4,2,5,3,1,16,21,21,6,18,16,8,15,15,13,17,8,3,13,1,5,6,21,19,4\r\n"
     ]
    }
   ],
   "source": [
    "!head -n1 formatted.txt"
   ]
  },
  {
   "cell_type": "markdown",
   "metadata": {},
   "source": [
    "Notice that by default format_seq does not include the stop symbol (25) at the end of the sequence. This is the correct behavior if you are trying to train a top model, but not if you are training UniRep representations."
   ]
  },
  {
   "cell_type": "markdown",
   "metadata": {},
   "source": [
    "Now we can use a custom function to bucket, batch and pad sequences from `formatted.txt` (which has the correct integer codex after calling `babbler.format_seq()`). The bucketing occurs in the graph. \n",
    "\n",
    "What is bucketing? Specify a lower and upper bound, and interval. All sequences less than lower or greater than upper will be batched together. The interval defines the \"sides\" of buckets between these bounds. Don't pick a small interval for a small dataset because the function will just repeat a sequence if there are not enough to\n",
    "fill a batch. All batches are the size you passed when initializing the babbler.\n",
    "\n",
    "This is also doing a few other things:\n",
    "- Shuffling the sequences by randomly sampling from a 10000 sequence buffer\n",
    "- Automatically padding the sequences with zeros so the returned batch is a perfect rectangle\n",
    "- Automatically repeating the dataset"
   ]
  },
  {
   "cell_type": "code",
   "execution_count": 26,
   "metadata": {},
   "outputs": [
    {
     "ename": "AttributeError",
     "evalue": "'list' object has no attribute 'bucket_batch_pad'",
     "output_type": "error",
     "traceback": [
      "\u001b[0;31m---------------------------------------------------------------------------\u001b[0m",
      "\u001b[0;31mAttributeError\u001b[0m                            Traceback (most recent call last)",
      "\u001b[0;32m<ipython-input-26-f0ed08967cf4>\u001b[0m in \u001b[0;36m<module>\u001b[0;34m()\u001b[0m\n\u001b[0;32m----> 1\u001b[0;31m \u001b[0mbucket_op\u001b[0m \u001b[0;34m=\u001b[0m \u001b[0mb\u001b[0m\u001b[0;34m.\u001b[0m\u001b[0mbucket_batch_pad\u001b[0m\u001b[0;34m(\u001b[0m\u001b[0;34m\"formatted.txt\"\u001b[0m\u001b[0;34m,\u001b[0m \u001b[0minterval\u001b[0m\u001b[0;34m=\u001b[0m\u001b[0;36m1000\u001b[0m\u001b[0;34m)\u001b[0m \u001b[0;31m# Large interval\u001b[0m\u001b[0;34m\u001b[0m\u001b[0m\n\u001b[0m",
      "\u001b[0;31mAttributeError\u001b[0m: 'list' object has no attribute 'bucket_batch_pad'"
     ]
    }
   ],
   "source": [
    "bucket_op = b.bucket_batch_pad(\"formatted.txt\", interval=1000) # Large interval"
   ]
  },
  {
   "cell_type": "markdown",
   "metadata": {},
   "source": [
    "Inconveniently, this does not make it easy for a value to be associated with each sequence and not lost during shuffling. You can get around this by just prepending every integer sequence with the sequence label (eg, every sequence would be saved to the file as \"{brightness value}, 24, 1, 5,...\" and then you could just index out the first column after calling the `bucket_op`. Please reach out if you have questions on how to do this."
   ]
  },
  {
   "cell_type": "markdown",
   "metadata": {},
   "source": [
    "Now that we have the `bucket_op`, we can simply `sess.run()` it to get a correctly formatted batch"
   ]
  },
  {
   "cell_type": "code",
   "execution_count": 28,
   "metadata": {},
   "outputs": [
    {
     "name": "stdout",
     "output_type": "stream",
     "text": [
      "[[24  1  7 ...  0  0  0]\n",
      " [24  1 10 ...  4  2 19]\n",
      " [24  1 13 ...  0  0  0]\n",
      " ...\n",
      " [24  1  2 ...  0  0  0]\n",
      " [24  1 17 ...  0  0  0]\n",
      " [24  1 15 ...  0  0  0]]\n",
      "(12, 248)\n"
     ]
    }
   ],
   "source": [
    "with tf.Session() as sess:\n",
    "    sess.run(tf.global_variables_initializer())\n",
    "    batch = sess.run(bucket_op)\n",
    "    \n",
    "print(batch)\n",
    "print(batch.shape)"
   ]
  },
  {
   "cell_type": "markdown",
   "metadata": {},
   "source": [
    "You can look back and see that the batch_size we passed to __init__ is indeed 12, and the second dimension must be the longest sequence included in this batch. Now we have the data flow setup (note that as long as your batch looks like this, you don't need my flow), so we can proceed to implementing the graph. The module returns all the operations needed to feed in sequence and get out trainable representations."
   ]
  },
  {
   "cell_type": "markdown",
   "metadata": {},
   "source": [
    "## Training a top model and a top model + mLSTM."
   ]
  },
  {
   "cell_type": "markdown",
   "metadata": {},
   "source": [
    "First, obtain all of the ops needed to output a representation"
   ]
  },
  {
   "cell_type": "code",
   "execution_count": 159,
   "metadata": {
    "collapsed": true
   },
   "outputs": [],
   "source": [
    "final_hidden, x_placeholder, batch_size_placeholder, seq_length_placeholder, initial_state_placeholder = (\n",
    "    b.get_rep_ops())"
   ]
  },
  {
   "cell_type": "markdown",
   "metadata": {},
   "source": [
    "`final_hidden` should be a batch_size x rep_dim matrix.\n",
    "\n",
    "Lets say we want to train a basic feed-forward network as the top model, doing regression with MSE loss, and the Adam optimizer. We can do that by:\n",
    "\n",
    "1.  Defining a loss function.\n",
    "\n",
    "2.  Defining an optimizer that's only optimizing variables in the top model.\n",
    "\n",
    "3.  Minimizing the loss inside of a TensorFlow session"
   ]
  },
  {
   "cell_type": "code",
   "execution_count": 160,
   "metadata": {
    "collapsed": true
   },
   "outputs": [],
   "source": [
    "y_placeholder = tf.placeholder(tf.float32, shape=[None,1], name=\"y\")\n",
    "initializer = tf.contrib.layers.xavier_initializer(uniform=False)\n",
    "\n",
    "with tf.variable_scope(\"top\"):\n",
    "    prediction = tf.contrib.layers.fully_connected(\n",
    "        final_hidden, 1, activation_fn=None, \n",
    "        weights_initializer=initializer,\n",
    "        biases_initializer=tf.zeros_initializer()\n",
    "    )\n",
    "\n",
    "loss = tf.losses.mean_squared_error(y_placeholder, prediction)"
   ]
  },
  {
   "cell_type": "markdown",
   "metadata": {},
   "source": [
    "You can specifically train the top model first by isolating variables of the \"top\" scope, and forcing the optimizer to only optimize these."
   ]
  },
  {
   "cell_type": "code",
   "execution_count": 161,
   "metadata": {
    "collapsed": true
   },
   "outputs": [],
   "source": [
    "learning_rate=.001\n",
    "top_variables = tf.get_collection(tf.GraphKeys.GLOBAL_VARIABLES, scope=\"top\")\n",
    "optimizer = tf.train.AdamOptimizer(learning_rate)\n",
    "top_only_step_op = optimizer.minimize(loss, var_list=top_variables)\n",
    "all_step_op = optimizer.minimize(loss)"
   ]
  },
  {
   "cell_type": "markdown",
   "metadata": {},
   "source": [
    "We next need to define a function that allows us to calculate the length each sequence in the batch so that we know what index to use to obtain the right \"final\" hidden state"
   ]
  },
  {
   "cell_type": "code",
   "execution_count": 162,
   "metadata": {},
   "outputs": [
    {
     "data": {
      "text/plain": [
       "array([ 87, 111, 223, 148, 124, 195, 176, 232, 205,  97, 239, 261])"
      ]
     },
     "execution_count": 162,
     "metadata": {},
     "output_type": "execute_result"
    }
   ],
   "source": [
    "def nonpad_len(batch):\n",
    "    nonzero = batch > 0\n",
    "    lengths = np.sum(nonzero, axis=1)\n",
    "    return lengths\n",
    "\n",
    "nonpad_len(batch)"
   ]
  },
  {
   "cell_type": "markdown",
   "metadata": {},
   "source": [
    "We are ready to train. As an illustration, let's learn to predict the number 42 just optimizing the top model."
   ]
  },
  {
   "cell_type": "code",
   "execution_count": 163,
   "metadata": {},
   "outputs": [
    {
     "name": "stdout",
     "output_type": "stream",
     "text": [
      "Iteration 0: 1741.5738525390625\n",
      "Iteration 1: 1739.5284423828125\n",
      "Iteration 2: 1737.1976318359375\n",
      "Iteration 3: 1735.5791015625\n",
      "Iteration 4: 1733.2252197265625\n",
      "Iteration 5: 1736.0694580078125\n",
      "Iteration 6: 1733.9964599609375\n",
      "Iteration 7: 1731.6090087890625\n",
      "Iteration 8: 1729.8792724609375\n",
      "Iteration 9: 1727.7677001953125\n"
     ]
    }
   ],
   "source": [
    "y = [[42]]*batch_size\n",
    "num_iters = 10\n",
    "with tf.Session() as sess:\n",
    "    sess.run(tf.global_variables_initializer())\n",
    "    for i in range(num_iters):\n",
    "        batch = sess.run(bucket_op)\n",
    "        length = nonpad_len(batch)\n",
    "        loss_, __, = sess.run([loss, top_only_step_op],\n",
    "                feed_dict={\n",
    "                     x_placeholder: batch,\n",
    "                     y_placeholder: y,\n",
    "                     batch_size_placeholder: batch_size,\n",
    "                     seq_length_placeholder:length,\n",
    "                     initial_state_placeholder:b._zero_state\n",
    "                }\n",
    "        )\n",
    "                  \n",
    "        print(\"Iteration {0}: {1}\".format(i, loss_))"
   ]
  },
  {
   "cell_type": "markdown",
   "metadata": {},
   "source": [
    "We can also jointly train the top model and the mLSTM. Note that if using the 1900-unit (full) model, you will need a GPU with at least 16GB RAM. To see a demonstration of joint training with fewer computational resources, please run this notebook using the 64-unit model."
   ]
  },
  {
   "cell_type": "code",
   "execution_count": 17,
   "metadata": {},
   "outputs": [
    {
     "name": "stdout",
     "output_type": "stream",
     "text": [
      "Iteration 0: 1757.400390625\n",
      "Iteration 1: 1720.1832275390625\n",
      "Iteration 2: 1650.4283447265625\n",
      "Iteration 3: 1552.2196044921875\n",
      "Iteration 4: 1369.4599609375\n",
      "Iteration 5: 1174.6700439453125\n",
      "Iteration 6: 981.3558959960938\n",
      "Iteration 7: 798.6965942382812\n",
      "Iteration 8: 715.9775390625\n",
      "Iteration 9: 580.2219848632812\n"
     ]
    }
   ],
   "source": [
    "y = [[42]]*batch_size\n",
    "num_iters = 10\n",
    "with tf.Session() as sess:\n",
    "    sess.run(tf.global_variables_initializer())\n",
    "    for i in range(num_iters):\n",
    "        batch = sess.run(bucket_op)\n",
    "        length = nonpad_len(batch)\n",
    "        loss_, __, = sess.run([loss, all_step_op],\n",
    "                feed_dict={\n",
    "                     x_placeholder: batch,\n",
    "                     y_placeholder: y,\n",
    "                     batch_size_placeholder: batch_size,\n",
    "                     seq_length_placeholder:length,\n",
    "                     initial_state_placeholder:b._zero_state\n",
    "                }\n",
    "        )\n",
    "        \n",
    "        print(\"Iteration {0}: {1}\".format(i,loss_))"
   ]
  }
 ],
 "metadata": {
  "kernelspec": {
   "display_name": "Python 3",
   "language": "python",
   "name": "python3"
  },
  "language_info": {
   "codemirror_mode": {
    "name": "ipython",
    "version": 3
   },
   "file_extension": ".py",
   "mimetype": "text/x-python",
   "name": "python",
   "nbconvert_exporter": "python",
   "pygments_lexer": "ipython3",
   "version": "3.5.2"
  }
 },
 "nbformat": 4,
 "nbformat_minor": 2
}
