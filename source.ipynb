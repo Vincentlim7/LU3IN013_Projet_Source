{
 "cells": [
  {
   "cell_type": "markdown",
   "metadata": {},
   "source": [
    "## How to use the UniRep mLSTM \"babbler\". This version demonstrates the 64-unit and the 1900-unit architecture. \n",
    "\n",
    "We recommend getting started with the 64-unit architecture as it is easier and faster to run, but has the same interface as the 1900-unit one."
   ]
  },
  {
   "cell_type": "markdown",
   "metadata": {},
   "source": [
    "Use the 64-unit or the 1900-unit model?"
   ]
  },
  {
   "cell_type": "code",
   "execution_count": 1,
   "metadata": {
    "collapsed": true
   },
   "outputs": [],
   "source": [
    "USE_FULL_1900_DIM_MODEL = False # if True use 1900 dimensional model, else use 64 dimensional one."
   ]
  },
  {
   "cell_type": "markdown",
   "metadata": {},
   "source": [
    "## Setup"
   ]
  },
  {
   "cell_type": "code",
   "execution_count": 2,
   "metadata": {
    "collapsed": true
   },
   "outputs": [],
   "source": [
    "import tensorflow as tf\n",
    "import numpy as np\n",
    "\n",
    "# Set seeds\n",
    "tf.set_random_seed(42)\n",
    "np.random.seed(42)\n",
    "\n",
    "if USE_FULL_1900_DIM_MODEL:\n",
    "    # Sync relevant weight files\n",
    "    !aws s3 sync --no-sign-request --quiet s3://unirep-public/1900_weights/ 1900_weights/\n",
    "    \n",
    "    # Import the mLSTM babbler model\n",
    "    from unirep import babbler1900 as babbler\n",
    "    \n",
    "    # Where model weights are stored.\n",
    "    MODEL_WEIGHT_PATH = \"./1900_weights\"\n",
    "    \n",
    "else:\n",
    "    # Sync relevant weight files\n",
    "    !aws s3 sync --no-sign-request --quiet s3://unirep-public/64_weights/ 64_weights/\n",
    "    \n",
    "    # Import the mLSTM babbler model\n",
    "    from unirep import babbler64 as babbler\n",
    "    \n",
    "    # Where model weights are stored.\n",
    "    MODEL_WEIGHT_PATH = \"./64_weights\""
   ]
  },
  {
   "cell_type": "markdown",
   "metadata": {},
   "source": [
    "## Data formatting and management"
   ]
  },
  {
   "cell_type": "markdown",
   "metadata": {},
   "source": [
    "Initialize UniRep, also referred to as the \"babbler\" in our code. You need to provide the batch size you will use and the path to the weight directory."
   ]
  },
  {
   "cell_type": "code",
   "execution_count": 3,
   "metadata": {
    "scrolled": true
   },
   "outputs": [
    {
     "name": "stderr",
     "output_type": "stream",
     "text": [
      "/usr/local/lib/python3.5/dist-packages/h5py/__init__.py:34: FutureWarning: Conversion of the second argument of issubdtype from `float` to `np.floating` is deprecated. In future, it will be treated as `np.float64 == np.dtype(float).type`.\n",
      "  from ._conv import register_converters as _register_converters\n"
     ]
    }
   ],
   "source": [
    "batch_size = 12\n",
    "b = babbler(batch_size=batch_size, model_path=MODEL_WEIGHT_PATH)"
   ]
  },
  {
   "cell_type": "code",
   "execution_count": 4,
   "metadata": {
    "collapsed": true
   },
   "outputs": [],
   "source": [
    "from scipy.spatial import distance\n",
    "# PLUS BESOIN DE get_rd_prot() JE CROIS\n",
    "def get_rd_prot():    # Retourne une ligne aleatoire du fichier fullProtein.list\n",
    "    lines = open(\"fullProtein.list\").read().splitlines()\n",
    "    return np.random.choice(lines).split() # return (\"protein name\", \"protein class)\n",
    "\n",
    "def get_prot_seq(file_name):\n",
    "    f = open(\"dataset/fastas/\" + file_name + \".fasta\", \"r\")\n",
    "    next(f)\n",
    "    seq = \"\"\n",
    "    for line in f:\n",
    "        tmp = line.rstrip()    # Supprimer le \"\\n\"\n",
    "        seq += tmp\n",
    "    f.close\n",
    "    return seq\n",
    "\n",
    "def get_avg_vec(seq):\n",
    "    avg_vec = b.get_rep(seq)[0]\n",
    "    return avg_vec\n",
    "\n",
    "def get_concat_vec(seq):\n",
    "    avg_vec = b.get_rep(seq)[0]\n",
    "    fnl_hid_vec = b.get_rep(seq)[1]\n",
    "    fnl_cell_vec = b.get_rep(seq)[2]\n",
    "    seq_vec = np.concatenate((avg_vec, fnl_hid_vec, fnl_cell_vec))\n",
    "    return seq_vec\n",
    "\n",
    "def get_classe(searched_protein):\n",
    "    for classe, protein_list in classes.items():\n",
    "        for protein_name, seq in protein_list.items():\n",
    "            if protein_name == searched_protein:\n",
    "                return classe\n",
    "\n",
    "\n",
    "def dic_init(avg = True):\n",
    "    classes = dict()\n",
    "    f = open(\"partialProtein.list\", \"r\")\n",
    "    for line in f:\n",
    "        infos = line.split()\n",
    "        protein = infos[0]    # Protein name\n",
    "        classe = infos[1]     # Protein class\n",
    "        if classe not in classes:\n",
    "            classes[classe] = dict()\n",
    "        if avg:\n",
    "            classes[classe][protein] = get_avg_vec(get_prot_seq(protein))\n",
    "        else:\n",
    "            classes[classe][protein] = get_concat_vec(get_prot_seq(protein))\n",
    "    return classes\n",
    "\n",
    "def get_dist_intra(protein_dict): # Fonctionne \n",
    "    dist_intra = dict()\n",
    "    for classe, protein_list in protein_dict.items():\n",
    "        if classe not in dist_intra:\n",
    "            dist_intra[classe] = dict()\n",
    "        for protein_a, vec_a in protein_list.items():\n",
    "            dist_intra[classe][protein_a] = (None, np.inf)\n",
    "            for protein_b, vec_b in protein_list.items():\n",
    "                if protein_a == protein_b:\n",
    "                    continue\n",
    "                dist = distance.euclidean(vec_a, vec_b)\n",
    "                if dist < dist_intra[classe][protein_a][1]:\n",
    "                    dist_intra[classe][protein_a] = (protein_b, dist)\n",
    "    return dist_intra\n",
    "\n",
    "def get_dist_extra(protein_dict): # A CODER \n",
    "    dist_extra = dict()\n",
    "    for classe_a, protein_list_a in protein_dict.items():\n",
    "        if classe_a not in dist_extra:\n",
    "            dist_extra[classe_a] = dict()\n",
    "        for protein_a, vec_a in protein_list_a.items():\n",
    "            dist_extra[classe_a][protein_a] = (None, np.inf)\n",
    "            for classe_b, protein_list_b in protein_dict.items():\n",
    "                if classe_a == classe_b:\n",
    "                    continue\n",
    "                for protein_b, vec_b in protein_list_b.items():\n",
    "                    dist = distance.euclidean(vec_a, vec_b)\n",
    "                    if dist < dist_extra[classe_a][protein_a][1]:\n",
    "                        dist_extra[classe_a][protein_a] = (protein_b, dist)\n",
    "    return dist_extra\n",
    "                    \n",
    "                "
   ]
  },
  {
   "cell_type": "code",
   "execution_count": 5,
   "metadata": {},
   "outputs": [
    {
     "name": "stdout",
     "output_type": "stream",
     "text": [
      "[-0.05927763  0.13672972 -0.12012561 -0.92642754 -0.00543742 -0.23650903\n",
      "  0.0897011   0.22526713  0.3273445  -0.28901672  0.13982387  0.25751212\n",
      " -0.05055477 -0.07889696 -0.05144807 -0.04764353 -0.8712801   0.0408201\n",
      "  0.12066931 -0.694603   -0.08486307  0.38025245 -0.39046776 -0.26605323\n",
      "  0.11696819 -0.07166346 -0.10103704  0.09316302  0.56611663 -0.4857574\n",
      "  0.18355957  0.31225762  0.21201386 -0.09779096  0.63104796  0.09026467\n",
      " -0.2454242   0.03384295  0.09200428 -0.10399538  0.02719643  0.21240036\n",
      " -0.04368882  0.00127077 -0.09775491  0.14389816 -0.91479826 -0.25973573\n",
      "  0.18563841  0.22764802  0.4566749   0.02696512 -0.0083634  -0.06258812\n",
      "  0.11238468 -0.00564607 -0.04524819 -0.01792673 -0.03315708  0.30691475\n",
      " -0.15224716 -0.04997362  0.43892825 -0.01767274]\n",
      "[-5.92776276e-02  1.36729717e-01 -1.20125614e-01 -9.26427543e-01\n",
      " -5.43741928e-03 -2.36509025e-01  8.97011012e-02  2.25267127e-01\n",
      "  3.27344507e-01 -2.89016724e-01  1.39823869e-01  2.57512122e-01\n",
      " -5.05547710e-02 -7.88969621e-02 -5.14480732e-02 -4.76435274e-02\n",
      " -8.71280074e-01  4.08200994e-02  1.20669305e-01 -6.94603026e-01\n",
      " -8.48630667e-02  3.80252451e-01 -3.90467763e-01 -2.66053230e-01\n",
      "  1.16968192e-01 -7.16634616e-02 -1.01037040e-01  9.31630209e-02\n",
      "  5.66116631e-01 -4.85757411e-01  1.83559567e-01  3.12257618e-01\n",
      "  2.12013856e-01 -9.77909565e-02  6.31047964e-01  9.02646706e-02\n",
      " -2.45424196e-01  3.38429511e-02  9.20042843e-02 -1.03995383e-01\n",
      "  2.71964334e-02  2.12400362e-01 -4.36888225e-02  1.27077033e-03\n",
      " -9.77549106e-02  1.43898159e-01 -9.14798260e-01 -2.59735733e-01\n",
      "  1.85638413e-01  2.27648020e-01  4.56674904e-01  2.69651189e-02\n",
      " -8.36340059e-03 -6.25881180e-02  1.12384684e-01 -5.64607186e-03\n",
      " -4.52481881e-02 -1.79267302e-02 -3.31570804e-02  3.06914747e-01\n",
      " -1.52247161e-01 -4.99736182e-02  4.38928246e-01 -1.76727381e-02\n",
      " -3.98235694e-02  6.35522678e-02 -1.98815838e-01 -7.38856256e-01\n",
      " -1.72722191e-02 -2.16604501e-01  5.87202460e-02  2.67947018e-01\n",
      "  2.82484442e-01 -2.95626223e-01  1.52403861e-01  1.16871059e-01\n",
      " -4.13589813e-02  3.34991552e-02 -5.94561920e-02 -3.44548598e-02\n",
      " -8.70031893e-01  3.48251462e-02  5.43651469e-02 -5.70100844e-01\n",
      " -9.84826386e-02  4.13910806e-01 -3.56320053e-01 -1.80888191e-01\n",
      "  1.25989571e-01 -7.60548487e-02 -1.51644811e-01  4.69576716e-02\n",
      "  2.84271598e-01 -5.10964572e-01  7.77888820e-02  3.65853041e-01\n",
      "  2.59333909e-01 -9.62047726e-02  4.88912761e-01  1.80981204e-01\n",
      " -2.18988493e-01  4.29175124e-02  1.93319898e-02 -1.72658294e-01\n",
      "  1.61782354e-02  3.02609652e-01 -5.61016090e-02  1.07742980e-01\n",
      "  5.97491162e-03  1.85345992e-01 -9.00752664e-01 -1.09282956e-01\n",
      "  1.40157059e-01  3.05696398e-01  5.14206588e-01  7.03561306e-03\n",
      " -4.48840372e-02 -1.05028652e-01  1.15862973e-01  1.13165779e-02\n",
      " -6.45521060e-02 -3.66532570e-03  8.03712383e-03  2.78096080e-01\n",
      " -2.79561400e-01 -3.02573163e-02  4.96756583e-01 -7.24512804e-03\n",
      " -6.32906333e-02  8.52697492e-01 -2.93023229e-01 -8.47886372e+00\n",
      " -3.78949568e-02 -1.14731419e+00  1.17520452e+00  1.33706880e+00\n",
      "  3.41444731e-01 -1.06212783e+00  7.22662032e-01  3.70661497e+00\n",
      " -4.66622338e-02  4.45568226e-02 -6.67455122e-02 -5.35583854e-01\n",
      " -1.16433096e+01  3.93745713e-02  1.62267268e+00 -4.41914988e+00\n",
      " -2.85728931e-01  1.89240992e+00 -1.99135315e+00 -3.18838644e+00\n",
      "  4.59220123e+00 -9.97263193e-01 -2.89506316e-01  8.80483687e-02\n",
      "  7.39252567e+00 -1.97262974e+01  5.34245205e+00  4.28222179e-01\n",
      "  1.60171854e+00 -8.14235091e-01  1.47935128e+00  3.66427481e-01\n",
      " -7.04479396e-01  3.76251340e-01  4.25031148e-02 -5.65879524e-01\n",
      "  4.29354906e-02  5.22115350e-01 -6.48232773e-02  6.64688408e-01\n",
      "  2.13923249e-02  2.90848947e+00 -2.77494335e+00 -1.83548279e+01\n",
      "  1.55522656e+00  8.52914095e-01  6.13502026e-01  1.68819681e-01\n",
      " -1.82451278e-01 -2.87052512e-01  1.82897285e-01  7.95435756e-02\n",
      " -7.45680258e-02 -7.18953460e-03  1.39805591e-02  1.12803383e+01\n",
      " -3.44917327e-01 -5.81138134e-02  3.31610155e+00 -2.99904607e-02]\n"
     ]
    }
   ],
   "source": [
    "# EXEMPLE VECTEURS\n",
    "seq = \"MRKGEELFTGVVPILVELDGDVNGHKFSVRGEGEGDATNGKLTLKFICTTGKLPVPWPTLVTTLTYGVQCFARYPDHMKQHDFFKSAMPEGYVQERTISFKDDGTYKTRAEVKFEGDTLVNRIELKGIDFKEDGNILGHKLEYNFNSHNVYITADKQKNGIKANFKIRHNVEDGSVQLADHYQQNTPIGDGPVLLPDNHYLSTQSVLSKDPNEKRDHMVLLEFVTAAGITHGMDELYK\"\n",
    "print(get_avg_vec(seq))\n",
    "print(get_concat_vec(seq))"
   ]
  },
  {
   "cell_type": "code",
   "execution_count": 6,
   "metadata": {},
   "outputs": [
    {
     "name": "stdout",
     "output_type": "stream",
     "text": [
      "{'a.1.1.2': {'d3sdha_': array([-0.07054725,  0.10115661, -0.13261783, -0.940131  , -0.01698289,\n",
      "       -0.09205481,  0.08504727,  0.18527837,  0.39105144, -0.14565688,\n",
      "        0.19388342,  0.28555447, -0.03018061,  0.12709962, -0.09605851,\n",
      "       -0.05154177, -0.8121881 ,  0.03181541,  0.10113516, -0.55182105,\n",
      "       -0.09193845,  0.3945473 , -0.33150598, -0.2733507 ,  0.15068373,\n",
      "       -0.09027573, -0.15639597,  0.0129333 ,  0.4741566 , -0.60439694,\n",
      "        0.15609662,  0.44052792,  0.2378565 , -0.13433918,  0.62674415,\n",
      "        0.11638118, -0.20006928,  0.05692971,  0.01575945, -0.14919691,\n",
      "        0.01402304,  0.19160947, -0.01479574,  0.1531309 , -0.03848166,\n",
      "        0.18453752, -0.89245343, -0.31758446,  0.1823717 ,  0.2568044 ,\n",
      "        0.46785805,  0.02946598, -0.02667353, -0.09683505,  0.08570692,\n",
      "        0.01555479, -0.05862859, -0.06577273,  0.02900021,  0.36144042,\n",
      "       -0.21110065, -0.032789  ,  0.45371523, -0.00468708], dtype=float32), 'd1scta_': array([-0.06008476,  0.10530929, -0.08858187, -0.96273863, -0.00617643,\n",
      "       -0.09710344,  0.07264345,  0.15530927,  0.39667857, -0.118877  ,\n",
      "        0.1611688 ,  0.22255607, -0.02239688,  0.03773696, -0.0869329 ,\n",
      "       -0.05069875, -0.8702945 ,  0.02991429,  0.09933542, -0.59894544,\n",
      "       -0.05702398,  0.35311952, -0.26501495, -0.22437114,  0.10426597,\n",
      "       -0.08041786, -0.12513639,  0.05377409,  0.397614  , -0.49618602,\n",
      "        0.12749304,  0.40371457,  0.19723292, -0.09692255,  0.72364634,\n",
      "        0.08178607, -0.20489153,  0.05794563,  0.04524241, -0.11524402,\n",
      "        0.01089749,  0.15879448, -0.00775352,  0.08967914, -0.11131008,\n",
      "        0.10511983, -0.91024625, -0.26867616,  0.13006642,  0.24227747,\n",
      "        0.39510342,  0.02834224, -0.01773153, -0.07925471,  0.09474829,\n",
      "        0.01032019,  0.00718646, -0.07794297,  0.00706596,  0.28885278,\n",
      "       -0.11288756, -0.02789026,  0.41583693, -0.00666441], dtype=float32), 'd1sctb_': array([-0.05901968,  0.12156617, -0.1187555 , -0.96267146, -0.01903752,\n",
      "       -0.088553  ,  0.07802016,  0.17176093,  0.41473535, -0.09291019,\n",
      "        0.19558184,  0.2214195 , -0.0325181 ,  0.14009303, -0.13151914,\n",
      "       -0.07710017, -0.8342219 ,  0.03926105,  0.10299817, -0.5386606 ,\n",
      "       -0.06651197,  0.33514696, -0.2562146 , -0.21749443,  0.10809047,\n",
      "       -0.10255058, -0.13723701,  0.04848398,  0.38133517, -0.520933  ,\n",
      "        0.1472218 ,  0.44585842,  0.18989661, -0.07997008,  0.6608426 ,\n",
      "        0.04817934, -0.22023912,  0.06905211,  0.02703031, -0.11506584,\n",
      "        0.01411846,  0.14131866, -0.02265517,  0.13128667, -0.08843399,\n",
      "        0.10639676, -0.9188293 , -0.28911322,  0.14862104,  0.26584467,\n",
      "        0.44185165,  0.03102348, -0.0217307 , -0.12799832,  0.07752565,\n",
      "        0.01419493, -0.00386418, -0.08809309,  0.00466726,  0.33005857,\n",
      "       -0.161314  , -0.02828803,  0.41072217, -0.00870787], dtype=float32)}, 'a.1.1.1': {'d1ux8a_': array([-4.47858609e-02,  9.36857387e-02, -1.32198587e-01, -9.80517983e-01,\n",
      "       -6.02580309e-02, -9.53160375e-02,  6.24220818e-02,  1.46730155e-01,\n",
      "        3.28835249e-01, -1.20127089e-01,  1.81275532e-01,  3.09576780e-01,\n",
      "       -2.77992077e-02,  1.30333304e-01, -1.42128140e-01, -4.03390266e-02,\n",
      "       -8.29809368e-01,  4.15121727e-02,  1.85295388e-01, -6.31225646e-01,\n",
      "       -6.45183772e-02,  4.03214931e-01, -2.40320221e-01, -1.85750380e-01,\n",
      "        7.81253949e-02, -7.49889612e-02, -1.04777515e-01,  6.14657737e-02,\n",
      "        4.55545485e-01, -5.63948035e-01,  1.34686500e-01,  4.40968752e-01,\n",
      "        1.57333121e-01, -7.70181194e-02,  7.50068605e-01,  1.00544579e-01,\n",
      "       -2.02430263e-01,  6.39987662e-02, -1.25182979e-02, -1.20291330e-01,\n",
      "        1.19742304e-02,  1.12734407e-01, -5.39201498e-03,  1.28193721e-01,\n",
      "       -1.21297739e-01,  1.04161911e-01, -8.81061792e-01, -4.19054985e-01,\n",
      "        1.57665700e-01,  1.54063538e-01,  3.92681062e-01,  3.36457193e-02,\n",
      "       -1.52095882e-02, -8.37732106e-02,  9.64775309e-02,  2.05558632e-02,\n",
      "        3.29071842e-02, -3.92882563e-02, -8.95913283e-04,  4.44749653e-01,\n",
      "       -1.39808238e-01, -2.66935118e-02,  3.61853540e-01,  2.90086698e-02],\n",
      "      dtype=float32), 'd1ngka_': array([-0.04141209,  0.13192216, -0.12904473, -0.97675675, -0.053143  ,\n",
      "       -0.11996135,  0.06692549,  0.14628944,  0.40349057, -0.09242135,\n",
      "        0.1735306 ,  0.30852997, -0.03349101,  0.08415349, -0.13733657,\n",
      "       -0.03596302, -0.77198833,  0.05048719,  0.1262137 , -0.61682504,\n",
      "       -0.07182759,  0.42782155, -0.23811232, -0.1558301 ,  0.10844795,\n",
      "       -0.07698579, -0.08427235,  0.06508814,  0.4921465 , -0.5749541 ,\n",
      "        0.15158464,  0.47304577,  0.1600736 , -0.08757644,  0.7670978 ,\n",
      "        0.13672397, -0.14245284,  0.04735142,  0.03178357, -0.11519549,\n",
      "       -0.00344815,  0.12339386, -0.00224105,  0.10926898, -0.10308538,\n",
      "        0.10092366, -0.8844488 , -0.36018568,  0.15405194,  0.18564881,\n",
      "        0.2618519 ,  0.03699913, -0.01436655, -0.0773034 ,  0.09705914,\n",
      "        0.01460024,  0.0121522 , -0.02012096,  0.0036136 ,  0.44292924,\n",
      "       -0.13954714, -0.00915195,  0.38481203,  0.02694258], dtype=float32)}, 'a.1.1.4': {'d1kr7a_': array([-6.71857893e-02,  1.24063611e-01, -8.30672905e-02, -9.64863062e-01,\n",
      "        8.97755905e-04, -1.36190951e-01,  7.93422610e-02,  2.38911659e-01,\n",
      "        4.09648865e-01, -1.20383903e-01,  1.88789114e-01,  3.99382859e-01,\n",
      "       -1.16567696e-02,  2.16005035e-02, -1.67721901e-02, -4.51721214e-02,\n",
      "       -7.56442368e-01,  4.48688641e-02,  1.28781706e-01, -6.05888009e-01,\n",
      "       -8.11120793e-02,  4.39151049e-01, -3.94908607e-01, -2.74263352e-01,\n",
      "        1.57608330e-01, -7.53199682e-02, -1.11383945e-01,  5.41900732e-02,\n",
      "        5.78499913e-01, -6.45091593e-01,  1.99853718e-01,  4.44140106e-01,\n",
      "        2.73543447e-01, -1.53828248e-01,  6.41184449e-01,  1.48625791e-01,\n",
      "       -1.43476382e-01,  3.94771211e-02,  3.69180031e-02, -1.25597388e-01,\n",
      "        5.17411530e-03,  2.01371118e-01,  1.78221352e-02,  8.14103931e-02,\n",
      "       -4.61620465e-02,  2.02601030e-01, -8.47947061e-01, -3.44138682e-01,\n",
      "        2.20901057e-01,  1.69625327e-01,  4.41107124e-01,  3.86224799e-02,\n",
      "       -8.07907898e-03, -5.06864898e-02,  8.54897946e-02,  1.80562548e-02,\n",
      "       -9.09350365e-02, -1.99179092e-04, -4.77850111e-03,  4.12041634e-01,\n",
      "       -1.72456890e-01, -3.30984965e-02,  4.84638870e-01, -1.97356418e-02],\n",
      "      dtype=float32)}}\n"
     ]
    }
   ],
   "source": [
    "classes = dic_init()\n",
    "print(classes)"
   ]
  },
  {
   "cell_type": "code",
   "execution_count": 9,
   "metadata": {},
   "outputs": [
    {
     "name": "stdout",
     "output_type": "stream",
     "text": [
      "{'a.1.1.2': {'d3sdha_': ('d1sctb_', 0.28723201155662537), 'd1scta_': ('d1sctb_', 0.21436138451099396), 'd1sctb_': ('d1scta_', 0.21436138451099396)}, 'a.1.1.1': {'d1ux8a_': ('d1ngka_', 0.23578718304634094), 'd1ngka_': ('d1ux8a_', 0.23578718304634094)}, 'a.1.1.4': {'d1kr7a_': (None, inf)}}\n"
     ]
    }
   ],
   "source": [
    "dist_intra = get_dist_intra(classes)\n",
    "print(dist_intra)"
   ]
  },
  {
   "cell_type": "code",
   "execution_count": 8,
   "metadata": {},
   "outputs": [
    {
     "name": "stdout",
     "output_type": "stream",
     "text": [
      "{'a.1.1.2': {'d3sdha_': ('d1kr7a_', 0.33625099062919617), 'd1scta_': ('d1ux8a_', 0.3595080077648163), 'd1sctb_': ('d1ux8a_', 0.3553575575351715)}, 'a.1.1.1': {'d1ux8a_': ('d1sctb_', 0.3553575575351715), 'd1ngka_': ('d1scta_', 0.37047824263572693)}, 'a.1.1.4': {'d1kr7a_': ('d3sdha_', 0.33625099062919617)}}\n"
     ]
    }
   ],
   "source": [
    "dist_extra = get_dist_extra(classes)\n",
    "print(dist_extra)"
   ]
  },
  {
   "cell_type": "code",
   "execution_count": 7,
   "metadata": {},
   "outputs": [
    {
     "name": "stdout",
     "output_type": "stream",
     "text": [
      "a.1.1.2\n",
      "   d3sdha_\n",
      "   d1scta_\n",
      "   d1sctb_\n",
      "a.1.1.1\n",
      "   d1ux8a_\n",
      "   d1ngka_\n",
      "a.1.1.4\n",
      "   d1kr7a_\n",
      "0.5299457907676697\n"
     ]
    }
   ],
   "source": [
    "# Testing manually if dist intra/extra are correct\n",
    "for key, value in classes.items():\n",
    "    print(key)\n",
    "    for key2, value2, in value.items():\n",
    "        print(\"  \", key2)\n",
    "prot1 = classes[\"a.1.1.2\"][\"d1sctb_\"]\n",
    "prot2 = classes[\"a.1.1.4\"][\"d1kr7a_\"]\n",
    "print(distance.euclidean(prot1, prot2))"
   ]
  },
  {
   "cell_type": "code",
   "execution_count": 59,
   "metadata": {},
   "outputs": [
    {
     "ename": "NameError",
     "evalue": "name 'get_seq' is not defined",
     "output_type": "error",
     "traceback": [
      "\u001b[0;31m---------------------------------------------------------------------------\u001b[0m",
      "\u001b[0;31mNameError\u001b[0m                                 Traceback (most recent call last)",
      "\u001b[0;32m<ipython-input-59-a8118fd5dce1>\u001b[0m in \u001b[0;36m<module>\u001b[0;34m()\u001b[0m\n\u001b[1;32m      4\u001b[0m \u001b[0;34m\u001b[0m\u001b[0m\n\u001b[1;32m      5\u001b[0m \u001b[0mline\u001b[0m \u001b[0;34m=\u001b[0m \u001b[0mnext\u001b[0m\u001b[0;34m(\u001b[0m\u001b[0mf\u001b[0m\u001b[0;34m)\u001b[0m\u001b[0;34m.\u001b[0m\u001b[0msplit\u001b[0m\u001b[0;34m(\u001b[0m\u001b[0;34m)\u001b[0m\u001b[0;34m\u001b[0m\u001b[0m\n\u001b[0;32m----> 6\u001b[0;31m \u001b[0mstudied_prot\u001b[0m \u001b[0;34m=\u001b[0m \u001b[0mget_seq\u001b[0m\u001b[0;34m(\u001b[0m\u001b[0mline\u001b[0m\u001b[0;34m[\u001b[0m\u001b[0;36m0\u001b[0m\u001b[0;34m]\u001b[0m\u001b[0;34m)\u001b[0m\u001b[0;34m\u001b[0m\u001b[0m\n\u001b[0m\u001b[1;32m      7\u001b[0m \u001b[0;34m\u001b[0m\u001b[0m\n\u001b[1;32m      8\u001b[0m \u001b[0msame_class\u001b[0m \u001b[0;34m=\u001b[0m \u001b[0;34m[\u001b[0m\u001b[0;34m]\u001b[0m\u001b[0;34m\u001b[0m\u001b[0m\n",
      "\u001b[0;31mNameError\u001b[0m: name 'get_seq' is not defined"
     ]
    }
   ],
   "source": [
    "from scipy.spatial import distance\n",
    "\n",
    "f = open(\"fullProtein.list\")\n",
    "\n",
    "line = next(f).split()\n",
    "studied_prot = get_seq(line[0])\n",
    "\n",
    "same_class = []\n",
    "rd_class = []\n",
    "\n",
    "nb_seq_class = 5\n",
    "\n",
    "\n",
    "for i in range (nb_seq_class): #Recuperer les noms de fichiers\n",
    "    line = next(f).split()\n",
    "    same_class.append(line[0])\n",
    "    rd_protein =random_line(\"fullProtein.list\")\n",
    "    rd_class.append(line[0])\n",
    "    \n",
    "f.close\n",
    "\n",
    "print(same_class)\n",
    "print(rd_class)\n",
    "\n",
    "seq_list1 = [] # Recuperer les sequences\n",
    "dist1 = []\n",
    "for i in range(nb_seq_class):\n",
    "    prot = get_seq(same_class[0])\n",
    "    seq_list1.append(prot)\n",
    "    #dist1.append(distance.euclidean(studied_prot[1], prot[1]))\n",
    "\n",
    "seq_list2 = []\n",
    "dist2 = []\n",
    "for i in range(nb_seq_class):\n",
    "    prot = get_seq(rd_class[0])\n",
    "    seq_list2.append(prot)\n",
    "    #dist2.append(distance.euclidean(studied_prot[1], prot[1]))\n",
    "\n",
    "print(seq_list1)\n",
    "\n",
    "\"\"\"rd_protein = random_line(\"fullProtein.list\")\n",
    "print(random_protein)\n",
    "\n",
    "file_name = \"dataset/fastas/\" + protein[0] + \".fasta\"\n",
    "rd_file_name = \"dataset/fastas/\" + rd_protein[0] + \".fasta\"\n",
    "\n",
    "seq, seq_vector = get_seq(file_name)\n",
    "rd_seq, rd_seq_vector = get_seq(rd_file_name)\n",
    "\n",
    "print(\"Studied sequence :\")\n",
    "print(seq + \"\\n\")\n",
    "print(\"Sequence size : \" + str(len(seq)) + \"\\n\")\n",
    "print(\"Vector representation of the sequence :\\n\" + str(seq_vector) + \"\\n\")\n",
    "print(\"Vector size : \" + str(len(seq_vector)) + \"\\n\")\n",
    "print(\"Is seq a valide sequence ?\\n\" + str(b.is_valid_seq(seq)) + \"\\n\")\n",
    "\"\"\""
   ]
  }
 ],
 "metadata": {
  "kernelspec": {
   "display_name": "Python 3",
   "language": "python",
   "name": "python3"
  },
  "language_info": {
   "codemirror_mode": {
    "name": "ipython",
    "version": 3
   },
   "file_extension": ".py",
   "mimetype": "text/x-python",
   "name": "python",
   "nbconvert_exporter": "python",
   "pygments_lexer": "ipython3",
   "version": "3.5.2"
  }
 },
 "nbformat": 4,
 "nbformat_minor": 2
}
