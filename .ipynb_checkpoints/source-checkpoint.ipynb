{
 "cells": [
  {
   "cell_type": "markdown",
   "metadata": {},
   "source": [
    "## How to use the UniRep mLSTM \"babbler\". This version demonstrates the 64-unit and the 1900-unit architecture. \n",
    "\n",
    "We recommend getting started with the 64-unit architecture as it is easier and faster to run, but has the same interface as the 1900-unit one."
   ]
  },
  {
   "cell_type": "markdown",
   "metadata": {},
   "source": [
    "Use the 64-unit or the 1900-unit model?"
   ]
  },
  {
   "cell_type": "code",
   "execution_count": 2,
   "metadata": {
    "collapsed": true
   },
   "outputs": [],
   "source": [
    "USE_FULL_1900_DIM_MODEL = False # if True use 1900 dimensional model, else use 64 dimensional one."
   ]
  },
  {
   "cell_type": "markdown",
   "metadata": {},
   "source": [
    "## Setup"
   ]
  },
  {
   "cell_type": "code",
   "execution_count": 3,
   "metadata": {
    "collapsed": true
   },
   "outputs": [],
   "source": [
    "import tensorflow as tf\n",
    "import numpy as np\n",
    "\n",
    "# Set seeds\n",
    "tf.set_random_seed(42)\n",
    "np.random.seed(42)\n",
    "\n",
    "if USE_FULL_1900_DIM_MODEL:\n",
    "    # Sync relevant weight files\n",
    "    !aws s3 sync --no-sign-request --quiet s3://unirep-public/1900_weights/ 1900_weights/\n",
    "    \n",
    "    # Import the mLSTM babbler model\n",
    "    from unirep import babbler1900 as babbler\n",
    "    \n",
    "    # Where model weights are stored.\n",
    "    MODEL_WEIGHT_PATH = \"./1900_weights\"\n",
    "    \n",
    "else:\n",
    "    # Sync relevant weight files\n",
    "    !aws s3 sync --no-sign-request --quiet s3://unirep-public/64_weights/ 64_weights/\n",
    "    \n",
    "    # Import the mLSTM babbler model\n",
    "    from unirep import babbler64 as babbler\n",
    "    \n",
    "    # Where model weights are stored.\n",
    "    MODEL_WEIGHT_PATH = \"./64_weights\""
   ]
  },
  {
   "cell_type": "markdown",
   "metadata": {},
   "source": [
    "## Data formatting and management"
   ]
  },
  {
   "cell_type": "markdown",
   "metadata": {},
   "source": [
    "Initialize UniRep, also referred to as the \"babbler\" in our code. You need to provide the batch size you will use and the path to the weight directory."
   ]
  },
  {
   "cell_type": "code",
   "execution_count": 4,
   "metadata": {
    "scrolled": true
   },
   "outputs": [
    {
     "name": "stderr",
     "output_type": "stream",
     "text": [
      "/usr/local/lib/python3.5/dist-packages/h5py/__init__.py:34: FutureWarning: Conversion of the second argument of issubdtype from `float` to `np.floating` is deprecated. In future, it will be treated as `np.float64 == np.dtype(float).type`.\n",
      "  from ._conv import register_converters as _register_converters\n"
     ]
    }
   ],
   "source": [
    "batch_size = 12\n",
    "b = babbler(batch_size=batch_size, model_path=MODEL_WEIGHT_PATH)"
   ]
  },
  {
   "cell_type": "code",
   "execution_count": 35,
   "metadata": {},
   "outputs": [],
   "source": [
    "def get_rd_prot():    # Retourne une ligne aleatoire du fichier fullProtein.list\n",
    "    lines = open(\"fullProtein.list\").read().splitlines()\n",
    "    return np.random.choice(lines).split() # return (\"protein name\", \"protein class)\n",
    "\n",
    "def get_prot_seq(file_name):\n",
    "    f = open(\"dataset/fastas/\" + file_name + \".fasta\", \"r\")\n",
    "    next(f)\n",
    "    seq = \"\"\n",
    "    for line in f:\n",
    "        tmp = line.rstrip()    # Supprimer le \"\\n\"\n",
    "        seq += tmp\n",
    "    f.close\n",
    "    return seq, seq_vector  # Return (\"sequence\", \"vecteur associe)\n",
    "\n",
    "def get_avg_vec(seq):\n",
    "    avg_vec = b.get_rep(seq)[0]\n",
    "    return avg_vec\n",
    "\n",
    "def get_concat_vec(seq):\n",
    "    avg_vec = b.get_rep(seq)[0]\n",
    "    fnl_hid_vec = b.get_rep(seq)[1]\n",
    "    fnl_cell_vec = b.get_rep(seq)[2]\n",
    "    seq_vec = np.concatenate((avg_vec, fnl_hid_vec, fnl_cell_vec))\n",
    "    return seq_vec"
   ]
  },
  {
   "cell_type": "code",
   "execution_count": 36,
   "metadata": {},
   "outputs": [
    {
     "name": "stdout",
     "output_type": "stream",
     "text": [
      "[-0.05927763  0.13672972 -0.12012561 -0.92642754 -0.00543742 -0.23650903\n",
      "  0.0897011   0.22526713  0.3273445  -0.28901672  0.13982387  0.25751212\n",
      " -0.05055477 -0.07889696 -0.05144807 -0.04764353 -0.8712801   0.0408201\n",
      "  0.12066931 -0.694603   -0.08486307  0.38025245 -0.39046776 -0.26605323\n",
      "  0.11696819 -0.07166346 -0.10103704  0.09316302  0.56611663 -0.4857574\n",
      "  0.18355957  0.31225762  0.21201386 -0.09779096  0.63104796  0.09026467\n",
      " -0.2454242   0.03384295  0.09200428 -0.10399538  0.02719643  0.21240036\n",
      " -0.04368882  0.00127077 -0.09775491  0.14389816 -0.91479826 -0.25973573\n",
      "  0.18563841  0.22764802  0.4566749   0.02696512 -0.0083634  -0.06258812\n",
      "  0.11238468 -0.00564607 -0.04524819 -0.01792673 -0.03315708  0.30691475\n",
      " -0.15224716 -0.04997362  0.43892825 -0.01767274]\n",
      "[-5.92776276e-02  1.36729717e-01 -1.20125614e-01 -9.26427543e-01\n",
      " -5.43741928e-03 -2.36509025e-01  8.97011012e-02  2.25267127e-01\n",
      "  3.27344507e-01 -2.89016724e-01  1.39823869e-01  2.57512122e-01\n",
      " -5.05547710e-02 -7.88969621e-02 -5.14480732e-02 -4.76435274e-02\n",
      " -8.71280074e-01  4.08200994e-02  1.20669305e-01 -6.94603026e-01\n",
      " -8.48630667e-02  3.80252451e-01 -3.90467763e-01 -2.66053230e-01\n",
      "  1.16968192e-01 -7.16634616e-02 -1.01037040e-01  9.31630209e-02\n",
      "  5.66116631e-01 -4.85757411e-01  1.83559567e-01  3.12257618e-01\n",
      "  2.12013856e-01 -9.77909565e-02  6.31047964e-01  9.02646706e-02\n",
      " -2.45424196e-01  3.38429511e-02  9.20042843e-02 -1.03995383e-01\n",
      "  2.71964334e-02  2.12400362e-01 -4.36888225e-02  1.27077033e-03\n",
      " -9.77549106e-02  1.43898159e-01 -9.14798260e-01 -2.59735733e-01\n",
      "  1.85638413e-01  2.27648020e-01  4.56674904e-01  2.69651189e-02\n",
      " -8.36340059e-03 -6.25881180e-02  1.12384684e-01 -5.64607186e-03\n",
      " -4.52481881e-02 -1.79267302e-02 -3.31570804e-02  3.06914747e-01\n",
      " -1.52247161e-01 -4.99736182e-02  4.38928246e-01 -1.76727381e-02\n",
      " -3.98235694e-02  6.35522678e-02 -1.98815838e-01 -7.38856256e-01\n",
      " -1.72722191e-02 -2.16604501e-01  5.87202460e-02  2.67947018e-01\n",
      "  2.82484442e-01 -2.95626223e-01  1.52403861e-01  1.16871059e-01\n",
      " -4.13589813e-02  3.34991552e-02 -5.94561920e-02 -3.44548598e-02\n",
      " -8.70031893e-01  3.48251462e-02  5.43651469e-02 -5.70100844e-01\n",
      " -9.84826386e-02  4.13910806e-01 -3.56320053e-01 -1.80888191e-01\n",
      "  1.25989571e-01 -7.60548487e-02 -1.51644811e-01  4.69576716e-02\n",
      "  2.84271598e-01 -5.10964572e-01  7.77888820e-02  3.65853041e-01\n",
      "  2.59333909e-01 -9.62047726e-02  4.88912761e-01  1.80981204e-01\n",
      " -2.18988493e-01  4.29175124e-02  1.93319898e-02 -1.72658294e-01\n",
      "  1.61782354e-02  3.02609652e-01 -5.61016090e-02  1.07742980e-01\n",
      "  5.97491162e-03  1.85345992e-01 -9.00752664e-01 -1.09282956e-01\n",
      "  1.40157059e-01  3.05696398e-01  5.14206588e-01  7.03561306e-03\n",
      " -4.48840372e-02 -1.05028652e-01  1.15862973e-01  1.13165779e-02\n",
      " -6.45521060e-02 -3.66532570e-03  8.03712383e-03  2.78096080e-01\n",
      " -2.79561400e-01 -3.02573163e-02  4.96756583e-01 -7.24512804e-03\n",
      " -6.32906333e-02  8.52697492e-01 -2.93023229e-01 -8.47886372e+00\n",
      " -3.78949568e-02 -1.14731419e+00  1.17520452e+00  1.33706880e+00\n",
      "  3.41444731e-01 -1.06212783e+00  7.22662032e-01  3.70661497e+00\n",
      " -4.66622338e-02  4.45568226e-02 -6.67455122e-02 -5.35583854e-01\n",
      " -1.16433096e+01  3.93745713e-02  1.62267268e+00 -4.41914988e+00\n",
      " -2.85728931e-01  1.89240992e+00 -1.99135315e+00 -3.18838644e+00\n",
      "  4.59220123e+00 -9.97263193e-01 -2.89506316e-01  8.80483687e-02\n",
      "  7.39252567e+00 -1.97262974e+01  5.34245205e+00  4.28222179e-01\n",
      "  1.60171854e+00 -8.14235091e-01  1.47935128e+00  3.66427481e-01\n",
      " -7.04479396e-01  3.76251340e-01  4.25031148e-02 -5.65879524e-01\n",
      "  4.29354906e-02  5.22115350e-01 -6.48232773e-02  6.64688408e-01\n",
      "  2.13923249e-02  2.90848947e+00 -2.77494335e+00 -1.83548279e+01\n",
      "  1.55522656e+00  8.52914095e-01  6.13502026e-01  1.68819681e-01\n",
      " -1.82451278e-01 -2.87052512e-01  1.82897285e-01  7.95435756e-02\n",
      " -7.45680258e-02 -7.18953460e-03  1.39805591e-02  1.12803383e+01\n",
      " -3.44917327e-01 -5.81138134e-02  3.31610155e+00 -2.99904607e-02]\n"
     ]
    }
   ],
   "source": [
    "seq = \"MRKGEELFTGVVPILVELDGDVNGHKFSVRGEGEGDATNGKLTLKFICTTGKLPVPWPTLVTTLTYGVQCFARYPDHMKQHDFFKSAMPEGYVQERTISFKDDGTYKTRAEVKFEGDTLVNRIELKGIDFKEDGNILGHKLEYNFNSHNVYITADKQKNGIKANFKIRHNVEDGSVQLADHYQQNTPIGDGPVLLPDNHYLSTQSVLSKDPNEKRDHMVLLEFVTAAGITHGMDELYK\"\n",
    "print(get_avg_vec(seq))\n",
    "print(get_concat_vec(seq))"
   ]
  },
  {
   "cell_type": "code",
   "execution_count": 13,
   "metadata": {},
   "outputs": [
    {
     "name": "stdout",
     "output_type": "stream",
     "text": [
      "['d1dlya_', 'd1s69a_', 'd1idra_', 'd1ngka_', 'd1ux8a_']\n",
      "['d1dlya_', 'd1s69a_', 'd1idra_', 'd1ngka_', 'd1ux8a_']\n",
      "[('SLFAKLGGREAVEAAVDKFYNKIVADPTVSTYFSNTDMKVQRSKQFAFLAYALGGASEWKGKDMRTAHKDLVPHLSDVHFQAVARHLSDTLTELGVPPEDITDAMAVVASTRTEVLNMPQQ', array([24,  7, 21, 18, 15,  4, 21, 13, 13,  2,  6, 15, 16,  6, 15, 15, 16,\n",
      "        5,  4, 18, 19,  9,  4, 17, 16, 15,  5, 14,  8, 16,  7,  8, 19, 18,\n",
      "        7,  9,  8,  5,  1,  4, 16, 10,  2,  7,  4, 10, 18, 15, 18, 21, 15,\n",
      "       19, 15, 21, 13, 13, 15,  7,  6, 20,  4, 13,  4,  5,  1,  2,  8, 15,\n",
      "        3,  4,  5, 21, 16, 14,  3, 21,  7,  5, 16,  3, 18, 10, 15, 16, 15,\n",
      "        2,  3, 21,  7,  5,  8, 21,  8,  6, 21, 13, 16, 14, 14,  6,  5, 17,\n",
      "        8,  5, 15,  1, 15, 16, 16, 15,  7,  8,  2,  8,  6, 16, 21,  9,  1,\n",
      "       14, 10, 10])), ('SLFAKLGGREAVEAAVDKFYNKIVADPTVSTYFSNTDMKVQRSKQFAFLAYALGGASEWKGKDMRTAHKDLVPHLSDVHFQAVARHLSDTLTELGVPPEDITDAMAVVASTRTEVLNMPQQ', array([24,  7, 21, 18, 15,  4, 21, 13, 13,  2,  6, 15, 16,  6, 15, 15, 16,\n",
      "        5,  4, 18, 19,  9,  4, 17, 16, 15,  5, 14,  8, 16,  7,  8, 19, 18,\n",
      "        7,  9,  8,  5,  1,  4, 16, 10,  2,  7,  4, 10, 18, 15, 18, 21, 15,\n",
      "       19, 15, 21, 13, 13, 15,  7,  6, 20,  4, 13,  4,  5,  1,  2,  8, 15,\n",
      "        3,  4,  5, 21, 16, 14,  3, 21,  7,  5, 16,  3, 18, 10, 15, 16, 15,\n",
      "        2,  3, 21,  7,  5,  8, 21,  8,  6, 21, 13, 16, 14, 14,  6,  5, 17,\n",
      "        8,  5, 15,  1, 15, 16, 16, 15,  7,  8,  2,  8,  6, 16, 21,  9,  1,\n",
      "       14, 10, 10])), ('SLFAKLGGREAVEAAVDKFYNKIVADPTVSTYFSNTDMKVQRSKQFAFLAYALGGASEWKGKDMRTAHKDLVPHLSDVHFQAVARHLSDTLTELGVPPEDITDAMAVVASTRTEVLNMPQQ', array([24,  7, 21, 18, 15,  4, 21, 13, 13,  2,  6, 15, 16,  6, 15, 15, 16,\n",
      "        5,  4, 18, 19,  9,  4, 17, 16, 15,  5, 14,  8, 16,  7,  8, 19, 18,\n",
      "        7,  9,  8,  5,  1,  4, 16, 10,  2,  7,  4, 10, 18, 15, 18, 21, 15,\n",
      "       19, 15, 21, 13, 13, 15,  7,  6, 20,  4, 13,  4,  5,  1,  2,  8, 15,\n",
      "        3,  4,  5, 21, 16, 14,  3, 21,  7,  5, 16,  3, 18, 10, 15, 16, 15,\n",
      "        2,  3, 21,  7,  5,  8, 21,  8,  6, 21, 13, 16, 14, 14,  6,  5, 17,\n",
      "        8,  5, 15,  1, 15, 16, 16, 15,  7,  8,  2,  8,  6, 16, 21,  9,  1,\n",
      "       14, 10, 10])), ('SLFAKLGGREAVEAAVDKFYNKIVADPTVSTYFSNTDMKVQRSKQFAFLAYALGGASEWKGKDMRTAHKDLVPHLSDVHFQAVARHLSDTLTELGVPPEDITDAMAVVASTRTEVLNMPQQ', array([24,  7, 21, 18, 15,  4, 21, 13, 13,  2,  6, 15, 16,  6, 15, 15, 16,\n",
      "        5,  4, 18, 19,  9,  4, 17, 16, 15,  5, 14,  8, 16,  7,  8, 19, 18,\n",
      "        7,  9,  8,  5,  1,  4, 16, 10,  2,  7,  4, 10, 18, 15, 18, 21, 15,\n",
      "       19, 15, 21, 13, 13, 15,  7,  6, 20,  4, 13,  4,  5,  1,  2,  8, 15,\n",
      "        3,  4,  5, 21, 16, 14,  3, 21,  7,  5, 16,  3, 18, 10, 15, 16, 15,\n",
      "        2,  3, 21,  7,  5,  8, 21,  8,  6, 21, 13, 16, 14, 14,  6,  5, 17,\n",
      "        8,  5, 15,  1, 15, 16, 16, 15,  7,  8,  2,  8,  6, 16, 21,  9,  1,\n",
      "       14, 10, 10])), ('SLFAKLGGREAVEAAVDKFYNKIVADPTVSTYFSNTDMKVQRSKQFAFLAYALGGASEWKGKDMRTAHKDLVPHLSDVHFQAVARHLSDTLTELGVPPEDITDAMAVVASTRTEVLNMPQQ', array([24,  7, 21, 18, 15,  4, 21, 13, 13,  2,  6, 15, 16,  6, 15, 15, 16,\n",
      "        5,  4, 18, 19,  9,  4, 17, 16, 15,  5, 14,  8, 16,  7,  8, 19, 18,\n",
      "        7,  9,  8,  5,  1,  4, 16, 10,  2,  7,  4, 10, 18, 15, 18, 21, 15,\n",
      "       19, 15, 21, 13, 13, 15,  7,  6, 20,  4, 13,  4,  5,  1,  2,  8, 15,\n",
      "        3,  4,  5, 21, 16, 14,  3, 21,  7,  5, 16,  3, 18, 10, 15, 16, 15,\n",
      "        2,  3, 21,  7,  5,  8, 21,  8,  6, 21, 13, 16, 14, 14,  6,  5, 17,\n",
      "        8,  5, 15,  1, 15, 16, 16, 15,  7,  8,  2,  8,  6, 16, 21,  9,  1,\n",
      "       14, 10, 10]))]\n",
      "[('SLFAKLGGREAVEAAVDKFYNKIVADPTVSTYFSNTDMKVQRSKQFAFLAYALGGASEWKGKDMRTAHKDLVPHLSDVHFQAVARHLSDTLTELGVPPEDITDAMAVVASTRTEVLNMPQQ', array([24,  7, 21, 18, 15,  4, 21, 13, 13,  2,  6, 15, 16,  6, 15, 15, 16,\n",
      "        5,  4, 18, 19,  9,  4, 17, 16, 15,  5, 14,  8, 16,  7,  8, 19, 18,\n",
      "        7,  9,  8,  5,  1,  4, 16, 10,  2,  7,  4, 10, 18, 15, 18, 21, 15,\n",
      "       19, 15, 21, 13, 13, 15,  7,  6, 20,  4, 13,  4,  5,  1,  2,  8, 15,\n",
      "        3,  4,  5, 21, 16, 14,  3, 21,  7,  5, 16,  3, 18, 10, 15, 16, 15,\n",
      "        2,  3, 21,  7,  5,  8, 21,  8,  6, 21, 13, 16, 14, 14,  6,  5, 17,\n",
      "        8,  5, 15,  1, 15, 16, 16, 15,  7,  8,  2,  8,  6, 16, 21,  9,  1,\n",
      "       14, 10, 10])), ('SLFAKLGGREAVEAAVDKFYNKIVADPTVSTYFSNTDMKVQRSKQFAFLAYALGGASEWKGKDMRTAHKDLVPHLSDVHFQAVARHLSDTLTELGVPPEDITDAMAVVASTRTEVLNMPQQ', array([24,  7, 21, 18, 15,  4, 21, 13, 13,  2,  6, 15, 16,  6, 15, 15, 16,\n",
      "        5,  4, 18, 19,  9,  4, 17, 16, 15,  5, 14,  8, 16,  7,  8, 19, 18,\n",
      "        7,  9,  8,  5,  1,  4, 16, 10,  2,  7,  4, 10, 18, 15, 18, 21, 15,\n",
      "       19, 15, 21, 13, 13, 15,  7,  6, 20,  4, 13,  4,  5,  1,  2,  8, 15,\n",
      "        3,  4,  5, 21, 16, 14,  3, 21,  7,  5, 16,  3, 18, 10, 15, 16, 15,\n",
      "        2,  3, 21,  7,  5,  8, 21,  8,  6, 21, 13, 16, 14, 14,  6,  5, 17,\n",
      "        8,  5, 15,  1, 15, 16, 16, 15,  7,  8,  2,  8,  6, 16, 21,  9,  1,\n",
      "       14, 10, 10])), ('SLFAKLGGREAVEAAVDKFYNKIVADPTVSTYFSNTDMKVQRSKQFAFLAYALGGASEWKGKDMRTAHKDLVPHLSDVHFQAVARHLSDTLTELGVPPEDITDAMAVVASTRTEVLNMPQQ', array([24,  7, 21, 18, 15,  4, 21, 13, 13,  2,  6, 15, 16,  6, 15, 15, 16,\n",
      "        5,  4, 18, 19,  9,  4, 17, 16, 15,  5, 14,  8, 16,  7,  8, 19, 18,\n",
      "        7,  9,  8,  5,  1,  4, 16, 10,  2,  7,  4, 10, 18, 15, 18, 21, 15,\n",
      "       19, 15, 21, 13, 13, 15,  7,  6, 20,  4, 13,  4,  5,  1,  2,  8, 15,\n",
      "        3,  4,  5, 21, 16, 14,  3, 21,  7,  5, 16,  3, 18, 10, 15, 16, 15,\n",
      "        2,  3, 21,  7,  5,  8, 21,  8,  6, 21, 13, 16, 14, 14,  6,  5, 17,\n",
      "        8,  5, 15,  1, 15, 16, 16, 15,  7,  8,  2,  8,  6, 16, 21,  9,  1,\n",
      "       14, 10, 10])), ('SLFAKLGGREAVEAAVDKFYNKIVADPTVSTYFSNTDMKVQRSKQFAFLAYALGGASEWKGKDMRTAHKDLVPHLSDVHFQAVARHLSDTLTELGVPPEDITDAMAVVASTRTEVLNMPQQ', array([24,  7, 21, 18, 15,  4, 21, 13, 13,  2,  6, 15, 16,  6, 15, 15, 16,\n",
      "        5,  4, 18, 19,  9,  4, 17, 16, 15,  5, 14,  8, 16,  7,  8, 19, 18,\n",
      "        7,  9,  8,  5,  1,  4, 16, 10,  2,  7,  4, 10, 18, 15, 18, 21, 15,\n",
      "       19, 15, 21, 13, 13, 15,  7,  6, 20,  4, 13,  4,  5,  1,  2,  8, 15,\n",
      "        3,  4,  5, 21, 16, 14,  3, 21,  7,  5, 16,  3, 18, 10, 15, 16, 15,\n",
      "        2,  3, 21,  7,  5,  8, 21,  8,  6, 21, 13, 16, 14, 14,  6,  5, 17,\n",
      "        8,  5, 15,  1, 15, 16, 16, 15,  7,  8,  2,  8,  6, 16, 21,  9,  1,\n",
      "       14, 10, 10])), ('SLFAKLGGREAVEAAVDKFYNKIVADPTVSTYFSNTDMKVQRSKQFAFLAYALGGASEWKGKDMRTAHKDLVPHLSDVHFQAVARHLSDTLTELGVPPEDITDAMAVVASTRTEVLNMPQQ', array([24,  7, 21, 18, 15,  4, 21, 13, 13,  2,  6, 15, 16,  6, 15, 15, 16,\n",
      "        5,  4, 18, 19,  9,  4, 17, 16, 15,  5, 14,  8, 16,  7,  8, 19, 18,\n",
      "        7,  9,  8,  5,  1,  4, 16, 10,  2,  7,  4, 10, 18, 15, 18, 21, 15,\n",
      "       19, 15, 21, 13, 13, 15,  7,  6, 20,  4, 13,  4,  5,  1,  2,  8, 15,\n",
      "        3,  4,  5, 21, 16, 14,  3, 21,  7,  5, 16,  3, 18, 10, 15, 16, 15,\n",
      "        2,  3, 21,  7,  5,  8, 21,  8,  6, 21, 13, 16, 14, 14,  6,  5, 17,\n",
      "        8,  5, 15,  1, 15, 16, 16, 15,  7,  8,  2,  8,  6, 16, 21,  9,  1,\n",
      "       14, 10, 10]))]\n"
     ]
    },
    {
     "data": {
      "text/plain": [
       "'rd_protein = random_line(\"fullProtein.list\")\\nprint(random_protein)\\n\\nfile_name = \"dataset/fastas/\" + protein[0] + \".fasta\"\\nrd_file_name = \"dataset/fastas/\" + rd_protein[0] + \".fasta\"\\n\\nseq, seq_vector = get_seq(file_name)\\nrd_seq, rd_seq_vector = get_seq(rd_file_name)\\n\\nprint(\"Studied sequence :\")\\nprint(seq + \"\\n\")\\nprint(\"Sequence size : \" + str(len(seq)) + \"\\n\")\\nprint(\"Vector representation of the sequence :\\n\" + str(seq_vector) + \"\\n\")\\nprint(\"Vector size : \" + str(len(seq_vector)) + \"\\n\")\\nprint(\"Is seq a valide sequence ?\\n\" + str(b.is_valid_seq(seq)) + \"\\n\")\\n'"
      ]
     },
     "execution_count": 13,
     "metadata": {},
     "output_type": "execute_result"
    }
   ],
   "source": [
    "from scipy.spatial import distance\n",
    "\n",
    "f = open(\"fullProtein.list\")\n",
    "\n",
    "line = next(f).split()\n",
    "studied_prot = get_seq(line[0])\n",
    "\n",
    "same_class = []\n",
    "rd_class = []\n",
    "\n",
    "nb_seq_class = 5\n",
    "\n",
    "\n",
    "for i in range (nb_seq_class): #Recuperer les noms de fichiers\n",
    "    line = next(f).split()\n",
    "    same_class.append(line[0])\n",
    "    rd_protein =random_line(\"fullProtein.list\")\n",
    "    rd_class.append(line[0])\n",
    "    \n",
    "f.close\n",
    "\n",
    "print(same_class)\n",
    "print(rd_class)\n",
    "\n",
    "seq_list1 = [] # Recuperer les sequences\n",
    "dist1 = []\n",
    "for i in range(nb_seq_class):\n",
    "    prot = get_seq(same_class[0])\n",
    "    seq_list1.append(prot)\n",
    "    #dist1.append(distance.euclidean(studied_prot[1], prot[1]))\n",
    "\n",
    "seq_list2 = []\n",
    "dist2 = []\n",
    "for i in range(nb_seq_class):\n",
    "    prot = get_seq(rd_class[0])\n",
    "    seq_list2.append(prot)\n",
    "    #dist2.append(distance.euclidean(studied_prot[1], prot[1]))\n",
    "\n",
    "print(seq_list1)\n",
    "print(seq_list2)\n",
    "\n",
    "\"\"\"rd_protein = random_line(\"fullProtein.list\")\n",
    "print(random_protein)\n",
    "\n",
    "file_name = \"dataset/fastas/\" + protein[0] + \".fasta\"\n",
    "rd_file_name = \"dataset/fastas/\" + rd_protein[0] + \".fasta\"\n",
    "\n",
    "seq, seq_vector = get_seq(file_name)\n",
    "rd_seq, rd_seq_vector = get_seq(rd_file_name)\n",
    "\n",
    "print(\"Studied sequence :\")\n",
    "print(seq + \"\\n\")\n",
    "print(\"Sequence size : \" + str(len(seq)) + \"\\n\")\n",
    "print(\"Vector representation of the sequence :\\n\" + str(seq_vector) + \"\\n\")\n",
    "print(\"Vector size : \" + str(len(seq_vector)) + \"\\n\")\n",
    "print(\"Is seq a valide sequence ?\\n\" + str(b.is_valid_seq(seq)) + \"\\n\")\n",
    "\"\"\""
   ]
  }
 ],
 "metadata": {
  "kernelspec": {
   "display_name": "Python 3",
   "language": "python",
   "name": "python3"
  },
  "language_info": {
   "codemirror_mode": {
    "name": "ipython",
    "version": 3
   },
   "file_extension": ".py",
   "mimetype": "text/x-python",
   "name": "python",
   "nbconvert_exporter": "python",
   "pygments_lexer": "ipython3",
   "version": "3.5.2"
  }
 },
 "nbformat": 4,
 "nbformat_minor": 2
}
